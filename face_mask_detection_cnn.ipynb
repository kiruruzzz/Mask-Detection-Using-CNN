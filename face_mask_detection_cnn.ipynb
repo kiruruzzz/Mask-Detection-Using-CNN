{
  "cells": [
    {
      "cell_type": "markdown",
      "source": [
        "Ridho AKbar (1301180290)"
      ],
      "metadata": {
        "id": "7HXWRjehx6Kk"
      },
      "id": "7HXWRjehx6Kk"
    },
    {
      "cell_type": "code",
      "source": [
        "!pip install -q kaggle"
      ],
      "metadata": {
        "id": "v67nWCEQxzzv"
      },
      "id": "v67nWCEQxzzv",
      "execution_count": 1,
      "outputs": []
    },
    {
      "cell_type": "code",
      "source": [
        "from google.colab import files # upload token API Kaggle\n",
        "files.upload()"
      ],
      "metadata": {
        "colab": {
          "base_uri": "https://localhost:8080/",
          "height": 93
        },
        "id": "_jpLXjAPx5o2",
        "outputId": "d794ba04-971a-42fa-8055-f8f8608c20ad"
      },
      "id": "_jpLXjAPx5o2",
      "execution_count": 2,
      "outputs": [
        {
          "output_type": "display_data",
          "data": {
            "text/plain": [
              "<IPython.core.display.HTML object>"
            ],
            "text/html": [
              "\n",
              "     <input type=\"file\" id=\"files-82b357de-27e8-4261-8ef3-2b6826f5d311\" name=\"files[]\" multiple disabled\n",
              "        style=\"border:none\" />\n",
              "     <output id=\"result-82b357de-27e8-4261-8ef3-2b6826f5d311\">\n",
              "      Upload widget is only available when the cell has been executed in the\n",
              "      current browser session. Please rerun this cell to enable.\n",
              "      </output>\n",
              "      <script>// Copyright 2017 Google LLC\n",
              "//\n",
              "// Licensed under the Apache License, Version 2.0 (the \"License\");\n",
              "// you may not use this file except in compliance with the License.\n",
              "// You may obtain a copy of the License at\n",
              "//\n",
              "//      http://www.apache.org/licenses/LICENSE-2.0\n",
              "//\n",
              "// Unless required by applicable law or agreed to in writing, software\n",
              "// distributed under the License is distributed on an \"AS IS\" BASIS,\n",
              "// WITHOUT WARRANTIES OR CONDITIONS OF ANY KIND, either express or implied.\n",
              "// See the License for the specific language governing permissions and\n",
              "// limitations under the License.\n",
              "\n",
              "/**\n",
              " * @fileoverview Helpers for google.colab Python module.\n",
              " */\n",
              "(function(scope) {\n",
              "function span(text, styleAttributes = {}) {\n",
              "  const element = document.createElement('span');\n",
              "  element.textContent = text;\n",
              "  for (const key of Object.keys(styleAttributes)) {\n",
              "    element.style[key] = styleAttributes[key];\n",
              "  }\n",
              "  return element;\n",
              "}\n",
              "\n",
              "// Max number of bytes which will be uploaded at a time.\n",
              "const MAX_PAYLOAD_SIZE = 100 * 1024;\n",
              "\n",
              "function _uploadFiles(inputId, outputId) {\n",
              "  const steps = uploadFilesStep(inputId, outputId);\n",
              "  const outputElement = document.getElementById(outputId);\n",
              "  // Cache steps on the outputElement to make it available for the next call\n",
              "  // to uploadFilesContinue from Python.\n",
              "  outputElement.steps = steps;\n",
              "\n",
              "  return _uploadFilesContinue(outputId);\n",
              "}\n",
              "\n",
              "// This is roughly an async generator (not supported in the browser yet),\n",
              "// where there are multiple asynchronous steps and the Python side is going\n",
              "// to poll for completion of each step.\n",
              "// This uses a Promise to block the python side on completion of each step,\n",
              "// then passes the result of the previous step as the input to the next step.\n",
              "function _uploadFilesContinue(outputId) {\n",
              "  const outputElement = document.getElementById(outputId);\n",
              "  const steps = outputElement.steps;\n",
              "\n",
              "  const next = steps.next(outputElement.lastPromiseValue);\n",
              "  return Promise.resolve(next.value.promise).then((value) => {\n",
              "    // Cache the last promise value to make it available to the next\n",
              "    // step of the generator.\n",
              "    outputElement.lastPromiseValue = value;\n",
              "    return next.value.response;\n",
              "  });\n",
              "}\n",
              "\n",
              "/**\n",
              " * Generator function which is called between each async step of the upload\n",
              " * process.\n",
              " * @param {string} inputId Element ID of the input file picker element.\n",
              " * @param {string} outputId Element ID of the output display.\n",
              " * @return {!Iterable<!Object>} Iterable of next steps.\n",
              " */\n",
              "function* uploadFilesStep(inputId, outputId) {\n",
              "  const inputElement = document.getElementById(inputId);\n",
              "  inputElement.disabled = false;\n",
              "\n",
              "  const outputElement = document.getElementById(outputId);\n",
              "  outputElement.innerHTML = '';\n",
              "\n",
              "  const pickedPromise = new Promise((resolve) => {\n",
              "    inputElement.addEventListener('change', (e) => {\n",
              "      resolve(e.target.files);\n",
              "    });\n",
              "  });\n",
              "\n",
              "  const cancel = document.createElement('button');\n",
              "  inputElement.parentElement.appendChild(cancel);\n",
              "  cancel.textContent = 'Cancel upload';\n",
              "  const cancelPromise = new Promise((resolve) => {\n",
              "    cancel.onclick = () => {\n",
              "      resolve(null);\n",
              "    };\n",
              "  });\n",
              "\n",
              "  // Wait for the user to pick the files.\n",
              "  const files = yield {\n",
              "    promise: Promise.race([pickedPromise, cancelPromise]),\n",
              "    response: {\n",
              "      action: 'starting',\n",
              "    }\n",
              "  };\n",
              "\n",
              "  cancel.remove();\n",
              "\n",
              "  // Disable the input element since further picks are not allowed.\n",
              "  inputElement.disabled = true;\n",
              "\n",
              "  if (!files) {\n",
              "    return {\n",
              "      response: {\n",
              "        action: 'complete',\n",
              "      }\n",
              "    };\n",
              "  }\n",
              "\n",
              "  for (const file of files) {\n",
              "    const li = document.createElement('li');\n",
              "    li.append(span(file.name, {fontWeight: 'bold'}));\n",
              "    li.append(span(\n",
              "        `(${file.type || 'n/a'}) - ${file.size} bytes, ` +\n",
              "        `last modified: ${\n",
              "            file.lastModifiedDate ? file.lastModifiedDate.toLocaleDateString() :\n",
              "                                    'n/a'} - `));\n",
              "    const percent = span('0% done');\n",
              "    li.appendChild(percent);\n",
              "\n",
              "    outputElement.appendChild(li);\n",
              "\n",
              "    const fileDataPromise = new Promise((resolve) => {\n",
              "      const reader = new FileReader();\n",
              "      reader.onload = (e) => {\n",
              "        resolve(e.target.result);\n",
              "      };\n",
              "      reader.readAsArrayBuffer(file);\n",
              "    });\n",
              "    // Wait for the data to be ready.\n",
              "    let fileData = yield {\n",
              "      promise: fileDataPromise,\n",
              "      response: {\n",
              "        action: 'continue',\n",
              "      }\n",
              "    };\n",
              "\n",
              "    // Use a chunked sending to avoid message size limits. See b/62115660.\n",
              "    let position = 0;\n",
              "    do {\n",
              "      const length = Math.min(fileData.byteLength - position, MAX_PAYLOAD_SIZE);\n",
              "      const chunk = new Uint8Array(fileData, position, length);\n",
              "      position += length;\n",
              "\n",
              "      const base64 = btoa(String.fromCharCode.apply(null, chunk));\n",
              "      yield {\n",
              "        response: {\n",
              "          action: 'append',\n",
              "          file: file.name,\n",
              "          data: base64,\n",
              "        },\n",
              "      };\n",
              "\n",
              "      let percentDone = fileData.byteLength === 0 ?\n",
              "          100 :\n",
              "          Math.round((position / fileData.byteLength) * 100);\n",
              "      percent.textContent = `${percentDone}% done`;\n",
              "\n",
              "    } while (position < fileData.byteLength);\n",
              "  }\n",
              "\n",
              "  // All done.\n",
              "  yield {\n",
              "    response: {\n",
              "      action: 'complete',\n",
              "    }\n",
              "  };\n",
              "}\n",
              "\n",
              "scope.google = scope.google || {};\n",
              "scope.google.colab = scope.google.colab || {};\n",
              "scope.google.colab._files = {\n",
              "  _uploadFiles,\n",
              "  _uploadFilesContinue,\n",
              "};\n",
              "})(self);\n",
              "</script> "
            ]
          },
          "metadata": {}
        },
        {
          "output_type": "stream",
          "name": "stdout",
          "text": [
            "Saving kaggle.json to kaggle.json\n"
          ]
        },
        {
          "output_type": "execute_result",
          "data": {
            "text/plain": [
              "{'kaggle.json': b'{\"username\":\"ridhoakbarrr\",\"key\":\"fc6f5ba27c7c6bb22cb903d6b7ba8c75\"}'}"
            ]
          },
          "metadata": {},
          "execution_count": 2
        }
      ]
    },
    {
      "cell_type": "code",
      "source": [
        "!mkdir ~/.kaggle\n",
        "!cp kaggle.json ~/.kaggle/\n",
        "!chmod 600 ~/.kaggle/kaggle.jso"
      ],
      "metadata": {
        "colab": {
          "base_uri": "https://localhost:8080/"
        },
        "id": "EJakzg2lyAOj",
        "outputId": "cc074f15-6462-4a6c-9e8a-204cf0e1e59a"
      },
      "id": "EJakzg2lyAOj",
      "execution_count": 3,
      "outputs": [
        {
          "output_type": "stream",
          "name": "stdout",
          "text": [
            "chmod: cannot access '/root/.kaggle/kaggle.jso': No such file or directory\n"
          ]
        }
      ]
    },
    {
      "cell_type": "code",
      "source": [
        "!kaggle datasets download 'andrewmvd/face-mask-detection'"
      ],
      "metadata": {
        "colab": {
          "base_uri": "https://localhost:8080/"
        },
        "id": "tPoCEehuyFtL",
        "outputId": "d3ef0341-c605-490e-c15b-3b3d5f949ff1"
      },
      "id": "tPoCEehuyFtL",
      "execution_count": 4,
      "outputs": [
        {
          "output_type": "stream",
          "name": "stdout",
          "text": [
            "Warning: Your Kaggle API key is readable by other users on this system! To fix this, you can run 'chmod 600 /root/.kaggle/kaggle.json'\n",
            "Downloading face-mask-detection.zip to /content\n",
            " 97% 385M/398M [00:03<00:00, 93.5MB/s]\n",
            "100% 398M/398M [00:03<00:00, 105MB/s] \n"
          ]
        }
      ]
    },
    {
      "cell_type": "code",
      "source": [
        "import zipfile\n",
        "local_zip = 'face-mask-detection.zip'\n",
        "zip_ref = zipfile.ZipFile(local_zip, 'r')\n",
        "zip_ref.extractall('face-mask-detection')\n",
        "zip_ref.close()\n",
        "     "
      ],
      "metadata": {
        "id": "n3m3iDikyUzi"
      },
      "id": "n3m3iDikyUzi",
      "execution_count": 5,
      "outputs": []
    },
    {
      "cell_type": "code",
      "source": [],
      "metadata": {
        "id": "MegOm6S1yXdz"
      },
      "id": "MegOm6S1yXdz",
      "execution_count": null,
      "outputs": []
    },
    {
      "cell_type": "code",
      "execution_count": 8,
      "id": "6c3790fb",
      "metadata": {
        "_cell_guid": "b1076dfc-b9ad-4769-8c92-a6c4dae69d19",
        "_uuid": "8f2839f25d086af736a60e9eeb907d3b93b6e0e5",
        "execution": {
          "iopub.execute_input": "2022-10-10T03:18:50.701961Z",
          "iopub.status.busy": "2022-10-10T03:18:50.700942Z",
          "iopub.status.idle": "2022-10-10T03:18:58.737619Z",
          "shell.execute_reply": "2022-10-10T03:18:58.736607Z"
        },
        "papermill": {
          "duration": 8.055016,
          "end_time": "2022-10-10T03:18:58.740277",
          "exception": false,
          "start_time": "2022-10-10T03:18:50.685261",
          "status": "completed"
        },
        "tags": [],
        "id": "6c3790fb"
      },
      "outputs": [],
      "source": [
        "import numpy as np\n",
        "import pandas as pd\n",
        "import matplotlib.pyplot as plt\n",
        "import os\n",
        "import xml.etree.ElementTree as ET\n",
        "import glob\n",
        "from PIL import Image\n",
        "from sklearn.model_selection import train_test_split\n",
        "from keras.models import Sequential\n",
        "from keras.layers import Conv2D, MaxPooling2D, Flatten, Dense, Dropout\n",
        "from keras.preprocessing.image import ImageDataGenerator\n",
        "from tensorflow.keras.callbacks import EarlyStopping\n",
        "from tensorflow.keras.callbacks import ReduceLROnPlateau\n",
        "from sklearn.metrics import confusion_matrix, classification_report\n",
        "from sklearn.metrics import precision_score, recall_score, accuracy_score,f1_score, classification_report\n",
        "import cv2\n",
        "import seaborn as sns \n",
        "\n",
        "\n",
        "input_data_path = '/content/face-mask-detection/images'\n",
        "annotations_path = \"/content/face-mask-detection/annotations\"\n",
        "images = [*os.listdir(\"/content/face-mask-detection/images\")]\n",
        "output_data_path =  '.'"
      ]
    },
    {
      "cell_type": "code",
      "source": [
        "!mkdir -p Dataset/labels\n",
        "!mkdir -p Dataset/images"
      ],
      "metadata": {
        "id": "zsjrvn6zy3ms"
      },
      "id": "zsjrvn6zy3ms",
      "execution_count": 9,
      "outputs": []
    },
    {
      "cell_type": "code",
      "execution_count": 10,
      "id": "a54012d1",
      "metadata": {
        "execution": {
          "iopub.execute_input": "2022-10-10T03:18:58.759184Z",
          "iopub.status.busy": "2022-10-10T03:18:58.758254Z",
          "iopub.status.idle": "2022-10-10T03:18:58.770273Z",
          "shell.execute_reply": "2022-10-10T03:18:58.769369Z"
        },
        "papermill": {
          "duration": 0.023967,
          "end_time": "2022-10-10T03:18:58.772716",
          "exception": false,
          "start_time": "2022-10-10T03:18:58.748749",
          "status": "completed"
        },
        "tags": [],
        "id": "a54012d1"
      },
      "outputs": [],
      "source": [
        "def parse_annotation(path):\n",
        "    tree = ET.parse(path)\n",
        "    root = tree.getroot()\n",
        "    constants = {}\n",
        "    objects = [child for child in root if child.tag == 'object']\n",
        "    for element in tree.iter():\n",
        "        if element.tag == 'filename':\n",
        "            constants['file'] = element.text[0:-4]\n",
        "        if element.tag == 'size':\n",
        "            for dim in list(element):\n",
        "                if dim.tag == 'width':\n",
        "                    constants['width'] = int(dim.text)\n",
        "                if dim.tag == 'height':\n",
        "                    constants['height'] = int(dim.text)\n",
        "                if dim.tag == 'depth':\n",
        "                    constants['depth'] = int(dim.text)\n",
        "    object_params = [parse_annotation_object(obj) for obj in objects]\n",
        "    #print(constants)\n",
        "    full_result = [merge(constants,ob) for ob in object_params]\n",
        "    return full_result   \n",
        "\n",
        "\n",
        "def parse_annotation_object(annotation_object):\n",
        "    params = {}\n",
        "    for param in list(annotation_object):\n",
        "        if param.tag == 'name':\n",
        "            params['name'] = param.text\n",
        "        if param.tag == 'bndbox':\n",
        "            for coord in list(param):\n",
        "                if coord.tag == 'xmin':\n",
        "                    params['xmin'] = int(coord.text)              \n",
        "                if coord.tag == 'ymin':\n",
        "                    params['ymin'] = int(coord.text)\n",
        "                if coord.tag == 'xmax':\n",
        "                    params['xmax'] = int(coord.text)\n",
        "                if coord.tag == 'ymax':\n",
        "                    params['ymax'] = int(coord.text)\n",
        "            \n",
        "    return params       \n",
        " \n",
        "def merge(dict1, dict2):\n",
        "    res = {**dict1, **dict2}\n",
        "    return res"
      ]
    },
    {
      "cell_type": "code",
      "execution_count": 11,
      "id": "8f803ab7",
      "metadata": {
        "execution": {
          "iopub.execute_input": "2022-10-10T03:18:58.791087Z",
          "iopub.status.busy": "2022-10-10T03:18:58.790449Z",
          "iopub.status.idle": "2022-10-10T03:19:03.053999Z",
          "shell.execute_reply": "2022-10-10T03:19:03.052862Z"
        },
        "papermill": {
          "duration": 4.275349,
          "end_time": "2022-10-10T03:19:03.056200",
          "exception": false,
          "start_time": "2022-10-10T03:18:58.780851",
          "status": "completed"
        },
        "tags": [],
        "colab": {
          "base_uri": "https://localhost:8080/"
        },
        "id": "8f803ab7",
        "outputId": "31de4a11-18a2-4c68-d749-4e94952aaf61"
      },
      "outputs": [
        {
          "output_type": "execute_result",
          "data": {
            "text/plain": [
              "(4072, 9)"
            ]
          },
          "metadata": {},
          "execution_count": 11
        }
      ],
      "source": [
        "dataset = [parse_annotation(anno) for anno in glob.glob(annotations_path+\"/*.xml\") ]\n",
        "\n",
        "full_dataset = sum(dataset, [])\n",
        "\n",
        "df = pd.DataFrame(full_dataset)\n",
        "df.shape"
      ]
    },
    {
      "cell_type": "code",
      "execution_count": 12,
      "id": "951182c0",
      "metadata": {
        "execution": {
          "iopub.execute_input": "2022-10-10T03:19:03.074671Z",
          "iopub.status.busy": "2022-10-10T03:19:03.074242Z",
          "iopub.status.idle": "2022-10-10T03:19:03.094351Z",
          "shell.execute_reply": "2022-10-10T03:19:03.093209Z"
        },
        "papermill": {
          "duration": 0.031969,
          "end_time": "2022-10-10T03:19:03.096566",
          "exception": false,
          "start_time": "2022-10-10T03:19:03.064597",
          "status": "completed"
        },
        "tags": [],
        "colab": {
          "base_uri": "https://localhost:8080/",
          "height": 206
        },
        "id": "951182c0",
        "outputId": "4ddb7fd5-1e72-430e-a161-06038db9c710"
      },
      "outputs": [
        {
          "output_type": "execute_result",
          "data": {
            "text/plain": [
              "              file  width  height  depth          name  xmin  ymin  xmax  ymax\n",
              "0  maksssksksss586    400     267      3     with_mask   111   106   146   164\n",
              "1  maksssksksss586    400     267      3     with_mask   194   115   224   164\n",
              "2  maksssksksss586    400     267      3     with_mask    22   120    50   161\n",
              "3  maksssksksss627    400     225      3  without_mask    42    27    69    52\n",
              "4  maksssksksss627    400     225      3  without_mask   132     5   144    20"
            ],
            "text/html": [
              "\n",
              "  <div id=\"df-e83b17b8-c05a-4cab-a133-26228ca30b43\">\n",
              "    <div class=\"colab-df-container\">\n",
              "      <div>\n",
              "<style scoped>\n",
              "    .dataframe tbody tr th:only-of-type {\n",
              "        vertical-align: middle;\n",
              "    }\n",
              "\n",
              "    .dataframe tbody tr th {\n",
              "        vertical-align: top;\n",
              "    }\n",
              "\n",
              "    .dataframe thead th {\n",
              "        text-align: right;\n",
              "    }\n",
              "</style>\n",
              "<table border=\"1\" class=\"dataframe\">\n",
              "  <thead>\n",
              "    <tr style=\"text-align: right;\">\n",
              "      <th></th>\n",
              "      <th>file</th>\n",
              "      <th>width</th>\n",
              "      <th>height</th>\n",
              "      <th>depth</th>\n",
              "      <th>name</th>\n",
              "      <th>xmin</th>\n",
              "      <th>ymin</th>\n",
              "      <th>xmax</th>\n",
              "      <th>ymax</th>\n",
              "    </tr>\n",
              "  </thead>\n",
              "  <tbody>\n",
              "    <tr>\n",
              "      <th>0</th>\n",
              "      <td>maksssksksss586</td>\n",
              "      <td>400</td>\n",
              "      <td>267</td>\n",
              "      <td>3</td>\n",
              "      <td>with_mask</td>\n",
              "      <td>111</td>\n",
              "      <td>106</td>\n",
              "      <td>146</td>\n",
              "      <td>164</td>\n",
              "    </tr>\n",
              "    <tr>\n",
              "      <th>1</th>\n",
              "      <td>maksssksksss586</td>\n",
              "      <td>400</td>\n",
              "      <td>267</td>\n",
              "      <td>3</td>\n",
              "      <td>with_mask</td>\n",
              "      <td>194</td>\n",
              "      <td>115</td>\n",
              "      <td>224</td>\n",
              "      <td>164</td>\n",
              "    </tr>\n",
              "    <tr>\n",
              "      <th>2</th>\n",
              "      <td>maksssksksss586</td>\n",
              "      <td>400</td>\n",
              "      <td>267</td>\n",
              "      <td>3</td>\n",
              "      <td>with_mask</td>\n",
              "      <td>22</td>\n",
              "      <td>120</td>\n",
              "      <td>50</td>\n",
              "      <td>161</td>\n",
              "    </tr>\n",
              "    <tr>\n",
              "      <th>3</th>\n",
              "      <td>maksssksksss627</td>\n",
              "      <td>400</td>\n",
              "      <td>225</td>\n",
              "      <td>3</td>\n",
              "      <td>without_mask</td>\n",
              "      <td>42</td>\n",
              "      <td>27</td>\n",
              "      <td>69</td>\n",
              "      <td>52</td>\n",
              "    </tr>\n",
              "    <tr>\n",
              "      <th>4</th>\n",
              "      <td>maksssksksss627</td>\n",
              "      <td>400</td>\n",
              "      <td>225</td>\n",
              "      <td>3</td>\n",
              "      <td>without_mask</td>\n",
              "      <td>132</td>\n",
              "      <td>5</td>\n",
              "      <td>144</td>\n",
              "      <td>20</td>\n",
              "    </tr>\n",
              "  </tbody>\n",
              "</table>\n",
              "</div>\n",
              "      <button class=\"colab-df-convert\" onclick=\"convertToInteractive('df-e83b17b8-c05a-4cab-a133-26228ca30b43')\"\n",
              "              title=\"Convert this dataframe to an interactive table.\"\n",
              "              style=\"display:none;\">\n",
              "        \n",
              "  <svg xmlns=\"http://www.w3.org/2000/svg\" height=\"24px\"viewBox=\"0 0 24 24\"\n",
              "       width=\"24px\">\n",
              "    <path d=\"M0 0h24v24H0V0z\" fill=\"none\"/>\n",
              "    <path d=\"M18.56 5.44l.94 2.06.94-2.06 2.06-.94-2.06-.94-.94-2.06-.94 2.06-2.06.94zm-11 1L8.5 8.5l.94-2.06 2.06-.94-2.06-.94L8.5 2.5l-.94 2.06-2.06.94zm10 10l.94 2.06.94-2.06 2.06-.94-2.06-.94-.94-2.06-.94 2.06-2.06.94z\"/><path d=\"M17.41 7.96l-1.37-1.37c-.4-.4-.92-.59-1.43-.59-.52 0-1.04.2-1.43.59L10.3 9.45l-7.72 7.72c-.78.78-.78 2.05 0 2.83L4 21.41c.39.39.9.59 1.41.59.51 0 1.02-.2 1.41-.59l7.78-7.78 2.81-2.81c.8-.78.8-2.07 0-2.86zM5.41 20L4 18.59l7.72-7.72 1.47 1.35L5.41 20z\"/>\n",
              "  </svg>\n",
              "      </button>\n",
              "      \n",
              "  <style>\n",
              "    .colab-df-container {\n",
              "      display:flex;\n",
              "      flex-wrap:wrap;\n",
              "      gap: 12px;\n",
              "    }\n",
              "\n",
              "    .colab-df-convert {\n",
              "      background-color: #E8F0FE;\n",
              "      border: none;\n",
              "      border-radius: 50%;\n",
              "      cursor: pointer;\n",
              "      display: none;\n",
              "      fill: #1967D2;\n",
              "      height: 32px;\n",
              "      padding: 0 0 0 0;\n",
              "      width: 32px;\n",
              "    }\n",
              "\n",
              "    .colab-df-convert:hover {\n",
              "      background-color: #E2EBFA;\n",
              "      box-shadow: 0px 1px 2px rgba(60, 64, 67, 0.3), 0px 1px 3px 1px rgba(60, 64, 67, 0.15);\n",
              "      fill: #174EA6;\n",
              "    }\n",
              "\n",
              "    [theme=dark] .colab-df-convert {\n",
              "      background-color: #3B4455;\n",
              "      fill: #D2E3FC;\n",
              "    }\n",
              "\n",
              "    [theme=dark] .colab-df-convert:hover {\n",
              "      background-color: #434B5C;\n",
              "      box-shadow: 0px 1px 3px 1px rgba(0, 0, 0, 0.15);\n",
              "      filter: drop-shadow(0px 1px 2px rgba(0, 0, 0, 0.3));\n",
              "      fill: #FFFFFF;\n",
              "    }\n",
              "  </style>\n",
              "\n",
              "      <script>\n",
              "        const buttonEl =\n",
              "          document.querySelector('#df-e83b17b8-c05a-4cab-a133-26228ca30b43 button.colab-df-convert');\n",
              "        buttonEl.style.display =\n",
              "          google.colab.kernel.accessAllowed ? 'block' : 'none';\n",
              "\n",
              "        async function convertToInteractive(key) {\n",
              "          const element = document.querySelector('#df-e83b17b8-c05a-4cab-a133-26228ca30b43');\n",
              "          const dataTable =\n",
              "            await google.colab.kernel.invokeFunction('convertToInteractive',\n",
              "                                                     [key], {});\n",
              "          if (!dataTable) return;\n",
              "\n",
              "          const docLinkHtml = 'Like what you see? Visit the ' +\n",
              "            '<a target=\"_blank\" href=https://colab.research.google.com/notebooks/data_table.ipynb>data table notebook</a>'\n",
              "            + ' to learn more about interactive tables.';\n",
              "          element.innerHTML = '';\n",
              "          dataTable['output_type'] = 'display_data';\n",
              "          await google.colab.output.renderOutput(dataTable, element);\n",
              "          const docLink = document.createElement('div');\n",
              "          docLink.innerHTML = docLinkHtml;\n",
              "          element.appendChild(docLink);\n",
              "        }\n",
              "      </script>\n",
              "    </div>\n",
              "  </div>\n",
              "  "
            ]
          },
          "metadata": {},
          "execution_count": 12
        }
      ],
      "source": [
        "df.head()"
      ]
    },
    {
      "cell_type": "code",
      "execution_count": 13,
      "id": "104feaba",
      "metadata": {
        "execution": {
          "iopub.execute_input": "2022-10-10T03:19:03.114796Z",
          "iopub.status.busy": "2022-10-10T03:19:03.114386Z",
          "iopub.status.idle": "2022-10-10T03:19:03.127174Z",
          "shell.execute_reply": "2022-10-10T03:19:03.126135Z"
        },
        "papermill": {
          "duration": 0.024565,
          "end_time": "2022-10-10T03:19:03.129484",
          "exception": false,
          "start_time": "2022-10-10T03:19:03.104919",
          "status": "completed"
        },
        "tags": [],
        "id": "104feaba"
      },
      "outputs": [],
      "source": [
        "final_test_image = 'maksssksksss0'\n",
        "df_final_test = df.loc[df[\"file\"] == final_test_image]\n",
        "images.remove(f'{final_test_image}.png')\n",
        "df = df.loc[df[\"file\"] != final_test_image]"
      ]
    },
    {
      "cell_type": "code",
      "execution_count": 14,
      "id": "52ade524",
      "metadata": {
        "execution": {
          "iopub.execute_input": "2022-10-10T03:19:03.149796Z",
          "iopub.status.busy": "2022-10-10T03:19:03.149396Z",
          "iopub.status.idle": "2022-10-10T03:19:03.167457Z",
          "shell.execute_reply": "2022-10-10T03:19:03.166242Z"
        },
        "papermill": {
          "duration": 0.030106,
          "end_time": "2022-10-10T03:19:03.169756",
          "exception": false,
          "start_time": "2022-10-10T03:19:03.139650",
          "status": "completed"
        },
        "tags": [],
        "colab": {
          "base_uri": "https://localhost:8080/",
          "height": 424
        },
        "id": "52ade524",
        "outputId": "5b3ad7fa-dd1d-49fc-803a-ba5915c89548"
      },
      "outputs": [
        {
          "output_type": "execute_result",
          "data": {
            "text/plain": [
              "                 file  width  height  depth          name  xmin  ymin  xmax  \\\n",
              "0     maksssksksss586    400     267      3     with_mask   111   106   146   \n",
              "1     maksssksksss586    400     267      3     with_mask   194   115   224   \n",
              "2     maksssksksss586    400     267      3     with_mask    22   120    50   \n",
              "3     maksssksksss627    400     225      3  without_mask    42    27    69   \n",
              "4     maksssksksss627    400     225      3  without_mask   132     5   144   \n",
              "...               ...    ...     ...    ...           ...   ...   ...   ...   \n",
              "4067  maksssksksss149    400     283      3     with_mask   180   103   215   \n",
              "4068  maksssksksss149    400     283      3     with_mask   287    53   315   \n",
              "4069  maksssksksss149    400     283      3     with_mask   315    57   341   \n",
              "4070  maksssksksss149    400     283      3     with_mask   330   104   359   \n",
              "4071  maksssksksss149    400     283      3     with_mask   324   180   348   \n",
              "\n",
              "      ymax  \n",
              "0      164  \n",
              "1      164  \n",
              "2      161  \n",
              "3       52  \n",
              "4       20  \n",
              "...    ...  \n",
              "4067   136  \n",
              "4068    85  \n",
              "4069    89  \n",
              "4070   133  \n",
              "4071   210  \n",
              "\n",
              "[4069 rows x 9 columns]"
            ],
            "text/html": [
              "\n",
              "  <div id=\"df-5cf8c1bb-6844-492e-af9a-1ed1d4eea9fe\">\n",
              "    <div class=\"colab-df-container\">\n",
              "      <div>\n",
              "<style scoped>\n",
              "    .dataframe tbody tr th:only-of-type {\n",
              "        vertical-align: middle;\n",
              "    }\n",
              "\n",
              "    .dataframe tbody tr th {\n",
              "        vertical-align: top;\n",
              "    }\n",
              "\n",
              "    .dataframe thead th {\n",
              "        text-align: right;\n",
              "    }\n",
              "</style>\n",
              "<table border=\"1\" class=\"dataframe\">\n",
              "  <thead>\n",
              "    <tr style=\"text-align: right;\">\n",
              "      <th></th>\n",
              "      <th>file</th>\n",
              "      <th>width</th>\n",
              "      <th>height</th>\n",
              "      <th>depth</th>\n",
              "      <th>name</th>\n",
              "      <th>xmin</th>\n",
              "      <th>ymin</th>\n",
              "      <th>xmax</th>\n",
              "      <th>ymax</th>\n",
              "    </tr>\n",
              "  </thead>\n",
              "  <tbody>\n",
              "    <tr>\n",
              "      <th>0</th>\n",
              "      <td>maksssksksss586</td>\n",
              "      <td>400</td>\n",
              "      <td>267</td>\n",
              "      <td>3</td>\n",
              "      <td>with_mask</td>\n",
              "      <td>111</td>\n",
              "      <td>106</td>\n",
              "      <td>146</td>\n",
              "      <td>164</td>\n",
              "    </tr>\n",
              "    <tr>\n",
              "      <th>1</th>\n",
              "      <td>maksssksksss586</td>\n",
              "      <td>400</td>\n",
              "      <td>267</td>\n",
              "      <td>3</td>\n",
              "      <td>with_mask</td>\n",
              "      <td>194</td>\n",
              "      <td>115</td>\n",
              "      <td>224</td>\n",
              "      <td>164</td>\n",
              "    </tr>\n",
              "    <tr>\n",
              "      <th>2</th>\n",
              "      <td>maksssksksss586</td>\n",
              "      <td>400</td>\n",
              "      <td>267</td>\n",
              "      <td>3</td>\n",
              "      <td>with_mask</td>\n",
              "      <td>22</td>\n",
              "      <td>120</td>\n",
              "      <td>50</td>\n",
              "      <td>161</td>\n",
              "    </tr>\n",
              "    <tr>\n",
              "      <th>3</th>\n",
              "      <td>maksssksksss627</td>\n",
              "      <td>400</td>\n",
              "      <td>225</td>\n",
              "      <td>3</td>\n",
              "      <td>without_mask</td>\n",
              "      <td>42</td>\n",
              "      <td>27</td>\n",
              "      <td>69</td>\n",
              "      <td>52</td>\n",
              "    </tr>\n",
              "    <tr>\n",
              "      <th>4</th>\n",
              "      <td>maksssksksss627</td>\n",
              "      <td>400</td>\n",
              "      <td>225</td>\n",
              "      <td>3</td>\n",
              "      <td>without_mask</td>\n",
              "      <td>132</td>\n",
              "      <td>5</td>\n",
              "      <td>144</td>\n",
              "      <td>20</td>\n",
              "    </tr>\n",
              "    <tr>\n",
              "      <th>...</th>\n",
              "      <td>...</td>\n",
              "      <td>...</td>\n",
              "      <td>...</td>\n",
              "      <td>...</td>\n",
              "      <td>...</td>\n",
              "      <td>...</td>\n",
              "      <td>...</td>\n",
              "      <td>...</td>\n",
              "      <td>...</td>\n",
              "    </tr>\n",
              "    <tr>\n",
              "      <th>4067</th>\n",
              "      <td>maksssksksss149</td>\n",
              "      <td>400</td>\n",
              "      <td>283</td>\n",
              "      <td>3</td>\n",
              "      <td>with_mask</td>\n",
              "      <td>180</td>\n",
              "      <td>103</td>\n",
              "      <td>215</td>\n",
              "      <td>136</td>\n",
              "    </tr>\n",
              "    <tr>\n",
              "      <th>4068</th>\n",
              "      <td>maksssksksss149</td>\n",
              "      <td>400</td>\n",
              "      <td>283</td>\n",
              "      <td>3</td>\n",
              "      <td>with_mask</td>\n",
              "      <td>287</td>\n",
              "      <td>53</td>\n",
              "      <td>315</td>\n",
              "      <td>85</td>\n",
              "    </tr>\n",
              "    <tr>\n",
              "      <th>4069</th>\n",
              "      <td>maksssksksss149</td>\n",
              "      <td>400</td>\n",
              "      <td>283</td>\n",
              "      <td>3</td>\n",
              "      <td>with_mask</td>\n",
              "      <td>315</td>\n",
              "      <td>57</td>\n",
              "      <td>341</td>\n",
              "      <td>89</td>\n",
              "    </tr>\n",
              "    <tr>\n",
              "      <th>4070</th>\n",
              "      <td>maksssksksss149</td>\n",
              "      <td>400</td>\n",
              "      <td>283</td>\n",
              "      <td>3</td>\n",
              "      <td>with_mask</td>\n",
              "      <td>330</td>\n",
              "      <td>104</td>\n",
              "      <td>359</td>\n",
              "      <td>133</td>\n",
              "    </tr>\n",
              "    <tr>\n",
              "      <th>4071</th>\n",
              "      <td>maksssksksss149</td>\n",
              "      <td>400</td>\n",
              "      <td>283</td>\n",
              "      <td>3</td>\n",
              "      <td>with_mask</td>\n",
              "      <td>324</td>\n",
              "      <td>180</td>\n",
              "      <td>348</td>\n",
              "      <td>210</td>\n",
              "    </tr>\n",
              "  </tbody>\n",
              "</table>\n",
              "<p>4069 rows × 9 columns</p>\n",
              "</div>\n",
              "      <button class=\"colab-df-convert\" onclick=\"convertToInteractive('df-5cf8c1bb-6844-492e-af9a-1ed1d4eea9fe')\"\n",
              "              title=\"Convert this dataframe to an interactive table.\"\n",
              "              style=\"display:none;\">\n",
              "        \n",
              "  <svg xmlns=\"http://www.w3.org/2000/svg\" height=\"24px\"viewBox=\"0 0 24 24\"\n",
              "       width=\"24px\">\n",
              "    <path d=\"M0 0h24v24H0V0z\" fill=\"none\"/>\n",
              "    <path d=\"M18.56 5.44l.94 2.06.94-2.06 2.06-.94-2.06-.94-.94-2.06-.94 2.06-2.06.94zm-11 1L8.5 8.5l.94-2.06 2.06-.94-2.06-.94L8.5 2.5l-.94 2.06-2.06.94zm10 10l.94 2.06.94-2.06 2.06-.94-2.06-.94-.94-2.06-.94 2.06-2.06.94z\"/><path d=\"M17.41 7.96l-1.37-1.37c-.4-.4-.92-.59-1.43-.59-.52 0-1.04.2-1.43.59L10.3 9.45l-7.72 7.72c-.78.78-.78 2.05 0 2.83L4 21.41c.39.39.9.59 1.41.59.51 0 1.02-.2 1.41-.59l7.78-7.78 2.81-2.81c.8-.78.8-2.07 0-2.86zM5.41 20L4 18.59l7.72-7.72 1.47 1.35L5.41 20z\"/>\n",
              "  </svg>\n",
              "      </button>\n",
              "      \n",
              "  <style>\n",
              "    .colab-df-container {\n",
              "      display:flex;\n",
              "      flex-wrap:wrap;\n",
              "      gap: 12px;\n",
              "    }\n",
              "\n",
              "    .colab-df-convert {\n",
              "      background-color: #E8F0FE;\n",
              "      border: none;\n",
              "      border-radius: 50%;\n",
              "      cursor: pointer;\n",
              "      display: none;\n",
              "      fill: #1967D2;\n",
              "      height: 32px;\n",
              "      padding: 0 0 0 0;\n",
              "      width: 32px;\n",
              "    }\n",
              "\n",
              "    .colab-df-convert:hover {\n",
              "      background-color: #E2EBFA;\n",
              "      box-shadow: 0px 1px 2px rgba(60, 64, 67, 0.3), 0px 1px 3px 1px rgba(60, 64, 67, 0.15);\n",
              "      fill: #174EA6;\n",
              "    }\n",
              "\n",
              "    [theme=dark] .colab-df-convert {\n",
              "      background-color: #3B4455;\n",
              "      fill: #D2E3FC;\n",
              "    }\n",
              "\n",
              "    [theme=dark] .colab-df-convert:hover {\n",
              "      background-color: #434B5C;\n",
              "      box-shadow: 0px 1px 3px 1px rgba(0, 0, 0, 0.15);\n",
              "      filter: drop-shadow(0px 1px 2px rgba(0, 0, 0, 0.3));\n",
              "      fill: #FFFFFF;\n",
              "    }\n",
              "  </style>\n",
              "\n",
              "      <script>\n",
              "        const buttonEl =\n",
              "          document.querySelector('#df-5cf8c1bb-6844-492e-af9a-1ed1d4eea9fe button.colab-df-convert');\n",
              "        buttonEl.style.display =\n",
              "          google.colab.kernel.accessAllowed ? 'block' : 'none';\n",
              "\n",
              "        async function convertToInteractive(key) {\n",
              "          const element = document.querySelector('#df-5cf8c1bb-6844-492e-af9a-1ed1d4eea9fe');\n",
              "          const dataTable =\n",
              "            await google.colab.kernel.invokeFunction('convertToInteractive',\n",
              "                                                     [key], {});\n",
              "          if (!dataTable) return;\n",
              "\n",
              "          const docLinkHtml = 'Like what you see? Visit the ' +\n",
              "            '<a target=\"_blank\" href=https://colab.research.google.com/notebooks/data_table.ipynb>data table notebook</a>'\n",
              "            + ' to learn more about interactive tables.';\n",
              "          element.innerHTML = '';\n",
              "          dataTable['output_type'] = 'display_data';\n",
              "          await google.colab.output.renderOutput(dataTable, element);\n",
              "          const docLink = document.createElement('div');\n",
              "          docLink.innerHTML = docLinkHtml;\n",
              "          element.appendChild(docLink);\n",
              "        }\n",
              "      </script>\n",
              "    </div>\n",
              "  </div>\n",
              "  "
            ]
          },
          "metadata": {},
          "execution_count": 14
        }
      ],
      "source": [
        "df"
      ]
    },
    {
      "cell_type": "code",
      "execution_count": 15,
      "id": "961f970e",
      "metadata": {
        "execution": {
          "iopub.execute_input": "2022-10-10T03:19:03.189140Z",
          "iopub.status.busy": "2022-10-10T03:19:03.188439Z",
          "iopub.status.idle": "2022-10-10T03:19:03.201572Z",
          "shell.execute_reply": "2022-10-10T03:19:03.200554Z"
        },
        "papermill": {
          "duration": 0.02515,
          "end_time": "2022-10-10T03:19:03.203769",
          "exception": false,
          "start_time": "2022-10-10T03:19:03.178619",
          "status": "completed"
        },
        "tags": [],
        "colab": {
          "base_uri": "https://localhost:8080/"
        },
        "id": "961f970e",
        "outputId": "51e98742-1fa6-4a4b-efb2-8c9ce723dde6"
      },
      "outputs": [
        {
          "output_type": "execute_result",
          "data": {
            "text/plain": [
              "with_mask                3231\n",
              "without_mask              715\n",
              "mask_weared_incorrect     123\n",
              "Name: name, dtype: int64"
            ]
          },
          "metadata": {},
          "execution_count": 15
        }
      ],
      "source": [
        "df[\"name\"].value_counts()"
      ]
    },
    {
      "cell_type": "code",
      "execution_count": 16,
      "id": "2ce6fc00",
      "metadata": {
        "execution": {
          "iopub.execute_input": "2022-10-10T03:19:03.223978Z",
          "iopub.status.busy": "2022-10-10T03:19:03.223574Z",
          "iopub.status.idle": "2022-10-10T03:19:03.505588Z",
          "shell.execute_reply": "2022-10-10T03:19:03.504367Z"
        },
        "papermill": {
          "duration": 0.295016,
          "end_time": "2022-10-10T03:19:03.508076",
          "exception": false,
          "start_time": "2022-10-10T03:19:03.213060",
          "status": "completed"
        },
        "tags": [],
        "colab": {
          "base_uri": "https://localhost:8080/",
          "height": 297
        },
        "id": "2ce6fc00",
        "outputId": "37e2542a-61ac-433f-a1d2-772720046200"
      },
      "outputs": [
        {
          "output_type": "execute_result",
          "data": {
            "text/plain": [
              "Text(0, 0.5, 'name')"
            ]
          },
          "metadata": {},
          "execution_count": 16
        },
        {
          "output_type": "display_data",
          "data": {
            "text/plain": [
              "<Figure size 432x288 with 1 Axes>"
            ],
            "image/png": "[encoded data removed]"
          },
          "metadata": {
            "needs_background": "light"
          }
        }
      ],
      "source": [
        "df[\"name\"].value_counts().plot(kind='barh')\n",
        "plt.xlabel('Count', fontsize = 10, fontweight = 'bold')\n",
        "plt.ylabel('name', fontsize = 10, fontweight = 'bold')"
      ]
    },
    {
      "cell_type": "code",
      "execution_count": 17,
      "id": "ce1e462b",
      "metadata": {
        "execution": {
          "iopub.execute_input": "2022-10-10T03:19:03.528267Z",
          "iopub.status.busy": "2022-10-10T03:19:03.527843Z",
          "iopub.status.idle": "2022-10-10T03:19:03.536738Z",
          "shell.execute_reply": "2022-10-10T03:19:03.535478Z"
        },
        "papermill": {
          "duration": 0.021922,
          "end_time": "2022-10-10T03:19:03.539103",
          "exception": false,
          "start_time": "2022-10-10T03:19:03.517181",
          "status": "completed"
        },
        "tags": [],
        "id": "ce1e462b"
      },
      "outputs": [],
      "source": [
        "labels = df['name'].unique()\n",
        "directory = ['train', 'test', 'val']\n",
        "output_data_path =  '.'\n",
        "\n",
        "import os\n",
        "for label in labels:\n",
        "    for d in directory:\n",
        "        path = os.path.join(output_data_path, d, label)\n",
        "        if not os.path.exists(path):\n",
        "            os.makedirs(path)"
      ]
    },
    {
      "cell_type": "code",
      "execution_count": 18,
      "id": "bc4f7e2d",
      "metadata": {
        "execution": {
          "iopub.execute_input": "2022-10-10T03:19:03.560102Z",
          "iopub.status.busy": "2022-10-10T03:19:03.559297Z",
          "iopub.status.idle": "2022-10-10T03:19:03.565670Z",
          "shell.execute_reply": "2022-10-10T03:19:03.564659Z"
        },
        "papermill": {
          "duration": 0.019514,
          "end_time": "2022-10-10T03:19:03.567811",
          "exception": false,
          "start_time": "2022-10-10T03:19:03.548297",
          "status": "completed"
        },
        "tags": [],
        "id": "bc4f7e2d"
      },
      "outputs": [],
      "source": [
        "def crop_img(image_path, x_min, y_min, x_max, y_max):\n",
        "    x_shift = (x_max - x_min) * 0.1\n",
        "    y_shift = (y_max - y_min) * 0.1\n",
        "    img = Image.open(image_path)\n",
        "    cropped = img.crop((x_min - x_shift, y_min - y_shift, x_max + x_shift, y_max + y_shift))\n",
        "    return cropped"
      ]
    },
    {
      "cell_type": "code",
      "execution_count": 19,
      "id": "347b0792",
      "metadata": {
        "execution": {
          "iopub.execute_input": "2022-10-10T03:19:03.588536Z",
          "iopub.status.busy": "2022-10-10T03:19:03.587850Z",
          "iopub.status.idle": "2022-10-10T03:19:03.594120Z",
          "shell.execute_reply": "2022-10-10T03:19:03.593378Z"
        },
        "papermill": {
          "duration": 0.019117,
          "end_time": "2022-10-10T03:19:03.596371",
          "exception": false,
          "start_time": "2022-10-10T03:19:03.577254",
          "status": "completed"
        },
        "tags": [],
        "id": "347b0792"
      },
      "outputs": [],
      "source": [
        "def extract_faces(image_name, image_info):\n",
        "    faces = []\n",
        "    df_one_img = image_info[image_info['file'] == image_name[:-4]][['xmin', 'ymin', 'xmax', 'ymax', 'name']]\n",
        "    for row_num in range(len(df_one_img)):\n",
        "        x_min, y_min, x_max, y_max, label = df_one_img.iloc[row_num] \n",
        "        image_path = os.path.join(input_data_path, image_name)\n",
        "        faces.append((crop_img(image_path, x_min, y_min, x_max, y_max), label,f'{image_name[:-4]}_{(x_min, y_min)}'))\n",
        "    return faces"
      ]
    },
    {
      "cell_type": "code",
      "execution_count": 20,
      "id": "47171d5e",
      "metadata": {
        "execution": {
          "iopub.execute_input": "2022-10-10T03:19:03.616518Z",
          "iopub.status.busy": "2022-10-10T03:19:03.616095Z",
          "iopub.status.idle": "2022-10-10T03:20:21.656712Z",
          "shell.execute_reply": "2022-10-10T03:20:21.655621Z"
        },
        "papermill": {
          "duration": 78.053916,
          "end_time": "2022-10-10T03:20:21.659564",
          "exception": false,
          "start_time": "2022-10-10T03:19:03.605648",
          "status": "completed"
        },
        "tags": [],
        "id": "47171d5e"
      },
      "outputs": [],
      "source": [
        "cropped_faces = [extract_faces(img, df) for img in images]"
      ]
    },
    {
      "cell_type": "code",
      "execution_count": 21,
      "id": "bfb03c24",
      "metadata": {
        "execution": {
          "iopub.execute_input": "2022-10-10T03:20:21.680460Z",
          "iopub.status.busy": "2022-10-10T03:20:21.680020Z",
          "iopub.status.idle": "2022-10-10T03:20:21.696046Z",
          "shell.execute_reply": "2022-10-10T03:20:21.694816Z"
        },
        "papermill": {
          "duration": 0.029637,
          "end_time": "2022-10-10T03:20:21.698813",
          "exception": false,
          "start_time": "2022-10-10T03:20:21.669176",
          "status": "completed"
        },
        "tags": [],
        "id": "bfb03c24"
      },
      "outputs": [],
      "source": [
        "flat_cropped_faces = sum(cropped_faces, [])"
      ]
    },
    {
      "cell_type": "code",
      "execution_count": 22,
      "id": "8c0a228c",
      "metadata": {
        "execution": {
          "iopub.execute_input": "2022-10-10T03:20:21.719939Z",
          "iopub.status.busy": "2022-10-10T03:20:21.719277Z",
          "iopub.status.idle": "2022-10-10T03:20:21.728681Z",
          "shell.execute_reply": "2022-10-10T03:20:21.727641Z"
        },
        "papermill": {
          "duration": 0.023214,
          "end_time": "2022-10-10T03:20:21.731426",
          "exception": false,
          "start_time": "2022-10-10T03:20:21.708212",
          "status": "completed"
        },
        "tags": [],
        "id": "8c0a228c"
      },
      "outputs": [],
      "source": [
        "with_mask = [(img, image_name) for img, label,image_name in flat_cropped_faces if label == \"with_mask\"]\n",
        "mask_weared_incorrect = [(img, image_name) for img, label,image_name in flat_cropped_faces if label == \"mask_weared_incorrect\"]\n",
        "without_mask = [(img, image_name) for img, label,image_name in flat_cropped_faces if label == \"without_mask\"]"
      ]
    },
    {
      "cell_type": "code",
      "execution_count": 23,
      "id": "20d2680e",
      "metadata": {
        "execution": {
          "iopub.execute_input": "2022-10-10T03:20:21.751972Z",
          "iopub.status.busy": "2022-10-10T03:20:21.751560Z",
          "iopub.status.idle": "2022-10-10T03:20:21.757850Z",
          "shell.execute_reply": "2022-10-10T03:20:21.756706Z"
        },
        "papermill": {
          "duration": 0.019504,
          "end_time": "2022-10-10T03:20:21.760395",
          "exception": false,
          "start_time": "2022-10-10T03:20:21.740891",
          "status": "completed"
        },
        "tags": [],
        "colab": {
          "base_uri": "https://localhost:8080/"
        },
        "id": "20d2680e",
        "outputId": "939aa2a7-ee18-4608-89a8-e2b09f7e305f"
      },
      "outputs": [
        {
          "output_type": "stream",
          "name": "stdout",
          "text": [
            "3231\n",
            "715\n",
            "123\n",
            "4069\n"
          ]
        }
      ],
      "source": [
        "print(len(with_mask))\n",
        "print(len(without_mask))\n",
        "print(len(mask_weared_incorrect))\n",
        "print(len(with_mask) + len(without_mask) + len(mask_weared_incorrect))"
      ]
    },
    {
      "cell_type": "code",
      "execution_count": 24,
      "id": "1ac88e4e",
      "metadata": {
        "execution": {
          "iopub.execute_input": "2022-10-10T03:20:21.781107Z",
          "iopub.status.busy": "2022-10-10T03:20:21.780685Z",
          "iopub.status.idle": "2022-10-10T03:20:21.791128Z",
          "shell.execute_reply": "2022-10-10T03:20:21.790331Z"
        },
        "papermill": {
          "duration": 0.023354,
          "end_time": "2022-10-10T03:20:21.793228",
          "exception": false,
          "start_time": "2022-10-10T03:20:21.769874",
          "status": "completed"
        },
        "tags": [],
        "id": "1ac88e4e"
      },
      "outputs": [],
      "source": [
        "train_with_mask, test_with_mask = train_test_split(with_mask, test_size=0.20, random_state=42)\n",
        "test_with_mask, val_with_mask = train_test_split(test_with_mask, test_size=0.7, random_state=42)\n",
        "\n",
        "train_mask_weared_incorrect, test_mask_weared_incorrect = train_test_split(mask_weared_incorrect, test_size=0.20, random_state=42)\n",
        "test_mask_weared_incorrect, val_mask_weared_incorrect = train_test_split(test_mask_weared_incorrect, test_size=0.7, random_state=42)\n",
        "\n",
        "train_without_mask, test_without_mask = train_test_split(without_mask, test_size=0.20, random_state=42)\n",
        "test_without_mask, val_without_mask = train_test_split(test_without_mask, test_size=0.7, random_state=42)"
      ]
    },
    {
      "cell_type": "code",
      "execution_count": 25,
      "id": "f48eccff",
      "metadata": {
        "execution": {
          "iopub.execute_input": "2022-10-10T03:20:21.813924Z",
          "iopub.status.busy": "2022-10-10T03:20:21.813347Z",
          "iopub.status.idle": "2022-10-10T03:20:21.818191Z",
          "shell.execute_reply": "2022-10-10T03:20:21.817369Z"
        },
        "papermill": {
          "duration": 0.018105,
          "end_time": "2022-10-10T03:20:21.820708",
          "exception": false,
          "start_time": "2022-10-10T03:20:21.802603",
          "status": "completed"
        },
        "tags": [],
        "id": "f48eccff"
      },
      "outputs": [],
      "source": [
        "def save_image(image, image_name, output_data_path,  dataset_type, label):\n",
        "    output_path = os.path.join(output_data_path, dataset_type, label ,f'{image_name}.png')\n",
        "    image.save(output_path)  "
      ]
    },
    {
      "cell_type": "code",
      "execution_count": 26,
      "id": "26565cc8",
      "metadata": {
        "execution": {
          "iopub.execute_input": "2022-10-10T03:20:21.842039Z",
          "iopub.status.busy": "2022-10-10T03:20:21.841611Z",
          "iopub.status.idle": "2022-10-10T03:20:29.918057Z",
          "shell.execute_reply": "2022-10-10T03:20:29.916883Z"
        },
        "papermill": {
          "duration": 8.090209,
          "end_time": "2022-10-10T03:20:29.920820",
          "exception": false,
          "start_time": "2022-10-10T03:20:21.830611",
          "status": "completed"
        },
        "tags": [],
        "id": "26565cc8"
      },
      "outputs": [],
      "source": [
        "for image, image_name in train_with_mask:\n",
        "    save_image(image, image_name, output_data_path, 'train', 'with_mask')\n",
        "\n",
        "for image, image_name in train_mask_weared_incorrect:\n",
        "    save_image(image, image_name, output_data_path, 'train', 'mask_weared_incorrect')\n",
        "\n",
        "for image, image_name in train_without_mask:\n",
        "    save_image(image, image_name, output_data_path, 'train', 'without_mask')\n",
        "\n",
        "for image, image_name in test_with_mask:\n",
        "    save_image(image, image_name, output_data_path, 'test', 'with_mask')\n",
        "\n",
        "for image, image_name in test_mask_weared_incorrect:\n",
        "    save_image(image, image_name, output_data_path, 'test', 'mask_weared_incorrect')\n",
        "\n",
        "for image, image_name in test_without_mask:\n",
        "    save_image(image, image_name, output_data_path, 'test', 'without_mask')\n",
        "        \n",
        "for image, image_name in val_with_mask:\n",
        "    save_image(image, image_name, output_data_path, 'val', 'with_mask')\n",
        "\n",
        "for image, image_name in val_without_mask:\n",
        "    save_image(image, image_name, output_data_path, 'val', 'without_mask')\n",
        "\n",
        "for image, image_name in val_mask_weared_incorrect:\n",
        "    save_image(image, image_name, output_data_path, 'val', 'mask_weared_incorrect')"
      ]
    },
    {
      "cell_type": "code",
      "execution_count": 27,
      "id": "b152e405",
      "metadata": {
        "execution": {
          "iopub.execute_input": "2022-10-10T03:20:29.941365Z",
          "iopub.status.busy": "2022-10-10T03:20:29.940928Z",
          "iopub.status.idle": "2022-10-10T03:20:30.131502Z",
          "shell.execute_reply": "2022-10-10T03:20:30.130306Z"
        },
        "papermill": {
          "duration": 0.204775,
          "end_time": "2022-10-10T03:20:30.135211",
          "exception": false,
          "start_time": "2022-10-10T03:20:29.930436",
          "status": "completed"
        },
        "tags": [],
        "colab": {
          "base_uri": "https://localhost:8080/"
        },
        "id": "b152e405",
        "outputId": "e06d3f45-5914-48f6-c748-50d6c1827ae1"
      },
      "outputs": [
        {
          "output_type": "stream",
          "name": "stdout",
          "text": [
            "Model: \"sequential\"\n",
            "_________________________________________________________________\n",
            " Layer (type)                Output Shape              Param #   \n",
            "=================================================================\n",
            " conv2d (Conv2D)             (None, 35, 35, 16)        448       \n",
            "                                                                 \n",
            " max_pooling2d (MaxPooling2D  (None, 17, 17, 16)       0         \n",
            " )                                                               \n",
            "                                                                 \n",
            " conv2d_1 (Conv2D)           (None, 17, 17, 32)        4640      \n",
            "                                                                 \n",
            " max_pooling2d_1 (MaxPooling  (None, 8, 8, 32)         0         \n",
            " 2D)                                                             \n",
            "                                                                 \n",
            " conv2d_2 (Conv2D)           (None, 8, 8, 64)          18496     \n",
            "                                                                 \n",
            " max_pooling2d_2 (MaxPooling  (None, 4, 4, 64)         0         \n",
            " 2D)                                                             \n",
            "                                                                 \n",
            " dropout (Dropout)           (None, 4, 4, 64)          0         \n",
            "                                                                 \n",
            " flatten (Flatten)           (None, 1024)              0         \n",
            "                                                                 \n",
            " dense (Dense)               (None, 500)               512500    \n",
            "                                                                 \n",
            " dropout_1 (Dropout)         (None, 500)               0         \n",
            "                                                                 \n",
            " dense_1 (Dense)             (None, 3)                 1503      \n",
            "                                                                 \n",
            "=================================================================\n",
            "Total params: 537,587\n",
            "Trainable params: 537,587\n",
            "Non-trainable params: 0\n",
            "_________________________________________________________________\n"
          ]
        }
      ],
      "source": [
        "model = Sequential()\n",
        "model.add(Conv2D(filters = 16, kernel_size = 3,  padding='same', activation = 'relu', input_shape = (35,35,3)))\n",
        "model.add(MaxPooling2D(pool_size = 2))\n",
        "model.add(Conv2D(filters = 32, kernel_size = 3,  padding='same', activation = 'relu'))\n",
        "model.add(MaxPooling2D(pool_size = 2))\n",
        "model.add(Conv2D(filters = 64, kernel_size = 3,  padding='same', activation = 'relu'))\n",
        "model.add(MaxPooling2D(pool_size = 2))\n",
        "model.add(Dropout(0.3))\n",
        "model.add(Flatten())\n",
        "model.add(Dense(units = 500, activation = 'relu'))\n",
        "model.add(Dropout(0.3))\n",
        "model.add(Dense(units = 3, activation = 'softmax'))\n",
        "\n",
        "model.summary()"
      ]
    },
    {
      "cell_type": "code",
      "execution_count": 29,
      "id": "02ee2d58",
      "metadata": {
        "execution": {
          "iopub.execute_input": "2022-10-10T03:20:30.157299Z",
          "iopub.status.busy": "2022-10-10T03:20:30.156888Z",
          "iopub.status.idle": "2022-10-10T03:20:30.483527Z",
          "shell.execute_reply": "2022-10-10T03:20:30.482292Z"
        },
        "papermill": {
          "duration": 0.340588,
          "end_time": "2022-10-10T03:20:30.486496",
          "exception": false,
          "start_time": "2022-10-10T03:20:30.145908",
          "status": "completed"
        },
        "tags": [],
        "colab": {
          "base_uri": "https://localhost:8080/"
        },
        "id": "02ee2d58",
        "outputId": "010f0b1b-7f31-43d0-d087-fd291c56b0f0"
      },
      "outputs": [
        {
          "output_type": "stream",
          "name": "stdout",
          "text": [
            "Found 3254 images belonging to 3 classes.\n",
            "Found 572 images belonging to 3 classes.\n",
            "Found 243 images belonging to 3 classes.\n"
          ]
        }
      ],
      "source": [
        "batch_size = 8\n",
        "epochs = 50\n",
        "\n",
        "datagen = ImageDataGenerator(\n",
        "    rescale=1.0 / 255, horizontal_flip=True, zoom_range=0.1, shear_range=0.2, width_shift_range=0.1,\n",
        "    height_shift_range=0.1, rotation_range=4, vertical_flip=False\n",
        "\n",
        ")\n",
        "\n",
        "val_datagen = ImageDataGenerator(\n",
        "    rescale=1.0 / 255\n",
        ")\n",
        " \n",
        "\n",
        "train_generator = datagen.flow_from_directory(\n",
        "    directory='/content/train', \n",
        "    target_size = (35,35),\n",
        "    class_mode=\"categorical\", batch_size=batch_size, shuffle=True\n",
        "\n",
        ")\n",
        "\n",
        "# Validation data\n",
        "val_generator = val_datagen.flow_from_directory(\n",
        "    directory='/content/val', \n",
        "    target_size = (35,35),\n",
        "    class_mode=\"categorical\", batch_size=batch_size, shuffle=True\n",
        ")\n",
        "\n",
        "# Test data\n",
        "test_generator = val_datagen.flow_from_directory(\n",
        "    directory='/content/test', \n",
        "    target_size = (35,35),\n",
        "    class_mode=\"categorical\", batch_size=batch_size, shuffle=False\n",
        ")\n"
      ]
    },
    {
      "cell_type": "code",
      "execution_count": 30,
      "id": "1f601772",
      "metadata": {
        "execution": {
          "iopub.execute_input": "2022-10-10T03:20:30.507861Z",
          "iopub.status.busy": "2022-10-10T03:20:30.507452Z",
          "iopub.status.idle": "2022-10-10T03:20:30.514086Z",
          "shell.execute_reply": "2022-10-10T03:20:30.512891Z"
        },
        "papermill": {
          "duration": 0.020445,
          "end_time": "2022-10-10T03:20:30.516651",
          "exception": false,
          "start_time": "2022-10-10T03:20:30.496206",
          "status": "completed"
        },
        "tags": [],
        "colab": {
          "base_uri": "https://localhost:8080/"
        },
        "id": "1f601772",
        "outputId": "8ff84a1b-fb3c-4dd2-94aa-e50b87582077"
      },
      "outputs": [
        {
          "output_type": "stream",
          "name": "stdout",
          "text": [
            "steps_per_epoch: 50\n",
            "val_steps: 9\n"
          ]
        }
      ],
      "source": [
        "data_size = len(train_generator)\n",
        "\n",
        "steps_per_epoch = int(data_size / batch_size)\n",
        "print(f\"steps_per_epoch: {steps_per_epoch}\")\n",
        "\n",
        "val_steps = int(len(val_generator) // batch_size)\n",
        "print(f\"val_steps: {val_steps}\")"
      ]
    },
    {
      "cell_type": "code",
      "execution_count": 31,
      "id": "38b08f0a",
      "metadata": {
        "execution": {
          "iopub.execute_input": "2022-10-10T03:20:30.538206Z",
          "iopub.status.busy": "2022-10-10T03:20:30.537593Z",
          "iopub.status.idle": "2022-10-10T03:20:30.551193Z",
          "shell.execute_reply": "2022-10-10T03:20:30.550056Z"
        },
        "papermill": {
          "duration": 0.027068,
          "end_time": "2022-10-10T03:20:30.553670",
          "exception": false,
          "start_time": "2022-10-10T03:20:30.526602",
          "status": "completed"
        },
        "tags": [],
        "id": "38b08f0a"
      },
      "outputs": [],
      "source": [
        "model.compile(\n",
        "    optimizer=\"adam\",\n",
        "    loss=\"categorical_crossentropy\",\n",
        "    metrics=['accuracy', 'Recall', 'Precision', 'AUC']\n",
        ")"
      ]
    },
    {
      "cell_type": "code",
      "execution_count": 32,
      "id": "fd6edab9",
      "metadata": {
        "execution": {
          "iopub.execute_input": "2022-10-10T03:20:30.575054Z",
          "iopub.status.busy": "2022-10-10T03:20:30.574635Z",
          "iopub.status.idle": "2022-10-10T03:20:30.579803Z",
          "shell.execute_reply": "2022-10-10T03:20:30.578693Z"
        },
        "papermill": {
          "duration": 0.018767,
          "end_time": "2022-10-10T03:20:30.582193",
          "exception": false,
          "start_time": "2022-10-10T03:20:30.563426",
          "status": "completed"
        },
        "tags": [],
        "id": "fd6edab9"
      },
      "outputs": [],
      "source": [
        "early_stopping = EarlyStopping(monitor='val_loss', patience=8, restore_best_weights=True)"
      ]
    },
    {
      "cell_type": "code",
      "execution_count": 33,
      "id": "f37e61de",
      "metadata": {
        "execution": {
          "iopub.execute_input": "2022-10-10T03:20:30.603607Z",
          "iopub.status.busy": "2022-10-10T03:20:30.602923Z",
          "iopub.status.idle": "2022-10-10T03:20:30.607990Z",
          "shell.execute_reply": "2022-10-10T03:20:30.606879Z"
        },
        "papermill": {
          "duration": 0.018423,
          "end_time": "2022-10-10T03:20:30.610398",
          "exception": false,
          "start_time": "2022-10-10T03:20:30.591975",
          "status": "completed"
        },
        "tags": [],
        "id": "f37e61de"
      },
      "outputs": [],
      "source": [
        "lrr = ReduceLROnPlateau(monitor='val_loss',patience=8,verbose=1,factor=0.5, min_lr=0.00001)"
      ]
    },
    {
      "cell_type": "code",
      "execution_count": 34,
      "id": "23872e57",
      "metadata": {
        "execution": {
          "iopub.execute_input": "2022-10-10T03:20:30.631246Z",
          "iopub.status.busy": "2022-10-10T03:20:30.630869Z",
          "iopub.status.idle": "2022-10-10T03:20:46.163037Z",
          "shell.execute_reply": "2022-10-10T03:20:46.161618Z"
        },
        "papermill": {
          "duration": 15.546159,
          "end_time": "2022-10-10T03:20:46.166292",
          "exception": false,
          "start_time": "2022-10-10T03:20:30.620133",
          "status": "completed"
        },
        "tags": [],
        "colab": {
          "base_uri": "https://localhost:8080/"
        },
        "id": "23872e57",
        "outputId": "47b8738d-02ca-4866-8028-0cff6f9eb505"
      },
      "outputs": [
        {
          "output_type": "stream",
          "name": "stdout",
          "text": [
            "Epoch 1/50\n"
          ]
        },
        {
          "output_type": "stream",
          "name": "stderr",
          "text": [
            "<ipython-input-34-b6bd8b88a620>:1: UserWarning: `Model.fit_generator` is deprecated and will be removed in a future version. Please use `Model.fit`, which supports generators.\n",
            "  model_history = model.fit_generator(\n"
          ]
        },
        {
          "output_type": "stream",
          "name": "stdout",
          "text": [
            "50/50 [==============================] - 4s 45ms/step - loss: 0.5813 - accuracy: 0.7900 - recall: 0.7550 - precision: 0.8075 - auc: 0.9119 - val_loss: 0.5348 - val_accuracy: 0.7917 - val_recall: 0.7500 - val_precision: 0.8571 - val_auc: 0.9321 - lr: 0.0010\n",
            "Epoch 2/50\n",
            "50/50 [==============================] - 1s 29ms/step - loss: 0.3336 - accuracy: 0.8825 - recall: 0.8550 - precision: 0.9000 - auc: 0.9703 - val_loss: 0.3645 - val_accuracy: 0.8611 - val_recall: 0.8611 - val_precision: 0.8857 - val_auc: 0.9592 - lr: 0.0010\n",
            "Epoch 3/50\n",
            "50/50 [==============================] - 1s 28ms/step - loss: 0.3188 - accuracy: 0.8950 - recall: 0.8850 - precision: 0.9054 - auc: 0.9709 - val_loss: 0.2874 - val_accuracy: 0.9167 - val_recall: 0.9167 - val_precision: 0.9167 - val_auc: 0.9793 - lr: 0.0010\n",
            "Epoch 4/50\n",
            "50/50 [==============================] - 1s 29ms/step - loss: 0.2928 - accuracy: 0.9250 - recall: 0.9125 - precision: 0.9241 - auc: 0.9734 - val_loss: 0.1545 - val_accuracy: 0.9722 - val_recall: 0.9722 - val_precision: 0.9722 - val_auc: 0.9869 - lr: 0.0010\n",
            "Epoch 5/50\n",
            "50/50 [==============================] - 2s 30ms/step - loss: 0.3209 - accuracy: 0.8894 - recall: 0.8769 - precision: 0.9018 - auc: 0.9689 - val_loss: 0.1526 - val_accuracy: 0.9444 - val_recall: 0.9444 - val_precision: 0.9444 - val_auc: 0.9938 - lr: 0.0010\n",
            "Epoch 6/50\n",
            "50/50 [==============================] - 2s 46ms/step - loss: 0.1931 - accuracy: 0.9425 - recall: 0.9300 - precision: 0.9490 - auc: 0.9883 - val_loss: 0.1927 - val_accuracy: 0.9444 - val_recall: 0.9444 - val_precision: 0.9444 - val_auc: 0.9889 - lr: 0.0010\n",
            "Epoch 7/50\n",
            "50/50 [==============================] - 2s 34ms/step - loss: 0.2942 - accuracy: 0.9070 - recall: 0.8819 - precision: 0.9237 - auc: 0.9754 - val_loss: 0.1675 - val_accuracy: 0.9583 - val_recall: 0.9444 - val_precision: 0.9577 - val_auc: 0.9915 - lr: 0.0010\n",
            "Epoch 8/50\n",
            "50/50 [==============================] - 2s 42ms/step - loss: 0.2241 - accuracy: 0.9275 - recall: 0.9275 - precision: 0.9298 - auc: 0.9838 - val_loss: 0.1685 - val_accuracy: 0.9167 - val_recall: 0.9167 - val_precision: 0.9167 - val_auc: 0.9920 - lr: 0.0010\n",
            "Epoch 9/50\n",
            "50/50 [==============================] - 2s 30ms/step - loss: 0.2936 - accuracy: 0.9075 - recall: 0.8950 - precision: 0.9299 - auc: 0.9762 - val_loss: 0.0786 - val_accuracy: 0.9861 - val_recall: 0.9861 - val_precision: 0.9861 - val_auc: 0.9992 - lr: 0.0010\n",
            "Epoch 10/50\n",
            "50/50 [==============================] - 2s 30ms/step - loss: 0.2696 - accuracy: 0.9200 - recall: 0.9075 - precision: 0.9190 - auc: 0.9786 - val_loss: 0.1050 - val_accuracy: 0.9722 - val_recall: 0.9722 - val_precision: 0.9722 - val_auc: 0.9967 - lr: 0.0010\n",
            "Epoch 11/50\n",
            "50/50 [==============================] - 2s 30ms/step - loss: 0.2410 - accuracy: 0.9121 - recall: 0.9070 - precision: 0.9280 - auc: 0.9836 - val_loss: 0.3333 - val_accuracy: 0.9306 - val_recall: 0.9167 - val_precision: 0.9296 - val_auc: 0.9697 - lr: 0.0010\n",
            "Epoch 12/50\n",
            "50/50 [==============================] - 2s 30ms/step - loss: 0.1859 - accuracy: 0.9350 - recall: 0.9300 - precision: 0.9490 - auc: 0.9885 - val_loss: 0.4627 - val_accuracy: 0.8750 - val_recall: 0.8750 - val_precision: 0.8873 - val_auc: 0.9638 - lr: 0.0010\n",
            "Epoch 13/50\n",
            "50/50 [==============================] - 2s 31ms/step - loss: 0.2191 - accuracy: 0.9350 - recall: 0.9175 - precision: 0.9362 - auc: 0.9836 - val_loss: 0.2238 - val_accuracy: 0.9306 - val_recall: 0.9306 - val_precision: 0.9306 - val_auc: 0.9831 - lr: 0.0010\n",
            "Epoch 14/50\n",
            "50/50 [==============================] - 2s 31ms/step - loss: 0.2410 - accuracy: 0.9350 - recall: 0.9200 - precision: 0.9412 - auc: 0.9811 - val_loss: 0.3017 - val_accuracy: 0.9167 - val_recall: 0.9028 - val_precision: 0.9155 - val_auc: 0.9771 - lr: 0.0010\n",
            "Epoch 15/50\n",
            "50/50 [==============================] - 2s 30ms/step - loss: 0.2498 - accuracy: 0.9175 - recall: 0.9075 - precision: 0.9356 - auc: 0.9813 - val_loss: 0.1436 - val_accuracy: 0.9583 - val_recall: 0.9583 - val_precision: 0.9583 - val_auc: 0.9936 - lr: 0.0010\n",
            "Epoch 16/50\n",
            "50/50 [==============================] - 2s 30ms/step - loss: 0.2020 - accuracy: 0.9400 - recall: 0.9375 - precision: 0.9446 - auc: 0.9874 - val_loss: 0.1979 - val_accuracy: 0.9167 - val_recall: 0.9167 - val_precision: 0.9296 - val_auc: 0.9912 - lr: 0.0010\n",
            "Epoch 17/50\n",
            "49/50 [============================>.] - ETA: 0s - loss: 0.2051 - accuracy: 0.9362 - recall: 0.9260 - precision: 0.9429 - auc: 0.9875\n",
            "Epoch 17: ReduceLROnPlateau reducing learning rate to 0.0005000000237487257.\n",
            "50/50 [==============================] - 2s 30ms/step - loss: 0.2023 - accuracy: 0.9375 - recall: 0.9275 - precision: 0.9440 - auc: 0.9878 - val_loss: 0.1916 - val_accuracy: 0.9306 - val_recall: 0.9306 - val_precision: 0.9306 - val_auc: 0.9905 - lr: 0.0010\n"
          ]
        }
      ],
      "source": [
        "model_history = model.fit_generator(\n",
        "    generator=train_generator,\n",
        "    steps_per_epoch=steps_per_epoch,\n",
        "    epochs=epochs,\n",
        "    shuffle=True,\n",
        "    validation_data=val_generator,\n",
        "    validation_steps=val_steps,\n",
        "    callbacks=[early_stopping, lrr]\n",
        ")"
      ]
    },
    {
      "cell_type": "code",
      "execution_count": 35,
      "id": "8ed5b9cf",
      "metadata": {
        "execution": {
          "iopub.execute_input": "2022-10-10T03:20:46.210277Z",
          "iopub.status.busy": "2022-10-10T03:20:46.209873Z",
          "iopub.status.idle": "2022-10-10T03:20:46.526693Z",
          "shell.execute_reply": "2022-10-10T03:20:46.525377Z"
        },
        "papermill": {
          "duration": 0.341312,
          "end_time": "2022-10-10T03:20:46.529235",
          "exception": false,
          "start_time": "2022-10-10T03:20:46.187923",
          "status": "completed"
        },
        "tags": [],
        "colab": {
          "base_uri": "https://localhost:8080/"
        },
        "id": "8ed5b9cf",
        "outputId": "aec468f9-278b-4183-a82e-1a1225bff331"
      },
      "outputs": [
        {
          "output_type": "stream",
          "name": "stdout",
          "text": [
            "31/31 [==============================] - 0s 10ms/step - loss: 0.1680 - accuracy: 0.9383 - recall: 0.9383 - precision: 0.9540 - auc: 0.9926\n",
            "0.1679672747850418 || 93.82715821266174 || 93.82715821266174 || 95.39749026298523 || 99.25612807273865\n"
          ]
        }
      ],
      "source": [
        "model_loss, model_acc, recall, precision, auc = model.evaluate(test_generator)\n",
        "print(f'{model_loss} || {model_acc*100} || {recall*100} || {precision*100} || {auc*100}')"
      ]
    },
    {
      "cell_type": "code",
      "execution_count": 36,
      "id": "7a93e4c3",
      "metadata": {
        "execution": {
          "iopub.execute_input": "2022-10-10T03:20:46.574828Z",
          "iopub.status.busy": "2022-10-10T03:20:46.574420Z",
          "iopub.status.idle": "2022-10-10T03:20:46.983242Z",
          "shell.execute_reply": "2022-10-10T03:20:46.982473Z"
        },
        "papermill": {
          "duration": 0.434037,
          "end_time": "2022-10-10T03:20:46.985516",
          "exception": false,
          "start_time": "2022-10-10T03:20:46.551479",
          "status": "completed"
        },
        "tags": [],
        "colab": {
          "base_uri": "https://localhost:8080/"
        },
        "id": "7a93e4c3",
        "outputId": "177dcc78-0dc0-4944-f154-66f3d0dba240"
      },
      "outputs": [
        {
          "output_type": "stream",
          "name": "stdout",
          "text": [
            "31/31 [==============================] - 0s 10ms/step\n"
          ]
        },
        {
          "output_type": "execute_result",
          "data": {
            "text/plain": [
              "array([[6.99873567e-02, 4.33686003e-02, 8.86644006e-01],\n",
              "       [2.95130294e-02, 3.16367336e-02, 9.38850164e-01],\n",
              "       [1.64462477e-01, 7.75550723e-01, 5.99867105e-02],\n",
              "       [7.94293344e-01, 1.86065882e-01, 1.96407996e-02],\n",
              "       [1.42262593e-01, 8.54745448e-01, 2.99175247e-03],\n",
              "       [9.00264233e-02, 9.09568071e-01, 4.05566301e-04],\n",
              "       [8.16222727e-02, 9.17205632e-01, 1.17199274e-03],\n",
              "       [2.06018817e-02, 9.69828725e-01, 9.56935994e-03],\n",
              "       [7.60887415e-05, 9.99923646e-01, 2.22604058e-07],\n",
              "       [2.74931490e-02, 9.30113673e-01, 4.23931926e-02],\n",
              "       [8.13402221e-05, 9.99918163e-01, 5.02778335e-07],\n",
              "       [2.37461622e-03, 9.97494698e-01, 1.30533910e-04],\n",
              "       [3.93582731e-02, 9.55300391e-01, 5.34128956e-03],\n",
              "       [1.19892545e-02, 9.86844301e-01, 1.16641342e-03],\n",
              "       [2.49212477e-02, 9.73724961e-01, 1.35379063e-03],\n",
              "       [8.46637636e-02, 8.46440494e-01, 6.88957274e-02],\n",
              "       [1.70567853e-03, 9.98219013e-01, 7.52692213e-05],\n",
              "       [6.32480765e-03, 9.89069700e-01, 4.60544508e-03],\n",
              "       [6.35968102e-03, 9.93286252e-01, 3.54111515e-04],\n",
              "       [4.44131996e-03, 9.95408297e-01, 1.50445572e-04],\n",
              "       [7.37167001e-02, 9.24519777e-01, 1.76354311e-03],\n",
              "       [5.66277595e-04, 9.99427915e-01, 5.73262014e-06],\n",
              "       [4.34048101e-02, 6.04577303e-01, 3.52017850e-01],\n",
              "       [3.18041490e-03, 9.96797681e-01, 2.19988815e-05],\n",
              "       [4.46071066e-02, 9.34576333e-01, 2.08165571e-02],\n",
              "       [8.14912245e-02, 6.09474719e-01, 3.09033990e-01],\n",
              "       [6.27983827e-04, 9.99369562e-01, 2.55302598e-06],\n",
              "       [3.77883133e-03, 9.96188343e-01, 3.28494243e-05],\n",
              "       [4.73165244e-04, 9.99500930e-01, 2.58409691e-05],\n",
              "       [3.18360835e-04, 9.99681592e-01, 6.82760870e-08],\n",
              "       [5.94976451e-03, 9.92189348e-01, 1.86092011e-03],\n",
              "       [1.36608782e-03, 9.98609960e-01, 2.38522171e-05],\n",
              "       [2.24204137e-04, 9.99775410e-01, 3.29826435e-07],\n",
              "       [5.62578700e-02, 8.98197830e-01, 4.55442779e-02],\n",
              "       [2.16005160e-03, 9.97738600e-01, 1.01297330e-04],\n",
              "       [1.72370602e-03, 9.97956157e-01, 3.20022140e-04],\n",
              "       [2.33941711e-03, 9.97512281e-01, 1.48321749e-04],\n",
              "       [6.82577083e-05, 9.99931514e-01, 1.43017687e-07],\n",
              "       [1.21818632e-02, 9.86630321e-01, 1.18769787e-03],\n",
              "       [4.18769196e-02, 9.53420043e-01, 4.70296433e-03],\n",
              "       [2.63527641e-03, 9.97359157e-01, 5.58717784e-06],\n",
              "       [6.58473466e-03, 9.93009269e-01, 4.05921775e-04],\n",
              "       [2.29322747e-03, 9.97671902e-01, 3.47947935e-05],\n",
              "       [1.71917789e-02, 9.73130167e-01, 9.67804715e-03],\n",
              "       [8.71908944e-03, 9.91264462e-01, 1.64721769e-05],\n",
              "       [1.79210314e-04, 9.99820471e-01, 2.01797590e-07],\n",
              "       [5.98258823e-02, 8.68190289e-01, 7.19838217e-02],\n",
              "       [5.43154292e-02, 4.49780583e-01, 4.95903999e-01],\n",
              "       [2.45236546e-01, 6.27712607e-01, 1.27050757e-01],\n",
              "       [8.27551167e-03, 9.90210176e-01, 1.51439873e-03],\n",
              "       [4.44329286e-04, 9.99554574e-01, 1.02045055e-06],\n",
              "       [2.21262388e-02, 9.76633370e-01, 1.24037534e-03],\n",
              "       [1.36747767e-04, 9.99862432e-01, 9.48301363e-07],\n",
              "       [2.46214289e-02, 9.73465204e-01, 1.91333063e-03],\n",
              "       [2.42315251e-02, 9.53456759e-01, 2.23117638e-02],\n",
              "       [9.89190675e-03, 9.88665819e-01, 1.44214777e-03],\n",
              "       [1.58988216e-04, 9.99840498e-01, 4.25493738e-07],\n",
              "       [1.55708010e-04, 9.99844074e-01, 4.07208262e-07],\n",
              "       [1.81450248e-02, 9.81446266e-01, 4.08722262e-04],\n",
              "       [1.56650785e-03, 9.98416901e-01, 1.64027133e-05],\n",
              "       [1.98877826e-02, 9.65862095e-01, 1.42501546e-02],\n",
              "       [1.70595758e-03, 9.98277664e-01, 1.64153062e-05],\n",
              "       [8.65695532e-03, 9.91073012e-01, 2.69913056e-04],\n",
              "       [1.91942803e-04, 9.99807596e-01, 5.50789764e-07],\n",
              "       [5.05159935e-03, 9.94841874e-01, 1.06532440e-04],\n",
              "       [2.59404294e-02, 9.66988504e-01, 7.07106385e-03],\n",
              "       [2.62528099e-03, 9.97360349e-01, 1.42137851e-05],\n",
              "       [1.13446258e-05, 9.99988496e-01, 7.13005548e-08],\n",
              "       [4.64212336e-03, 9.95094955e-01, 2.62868067e-04],\n",
              "       [1.50136964e-03, 9.98474896e-01, 2.36995311e-05],\n",
              "       [1.45021011e-04, 9.99851942e-01, 3.05508820e-06],\n",
              "       [3.19247786e-03, 9.91641700e-01, 5.16575854e-03],\n",
              "       [1.20293321e-02, 9.87533271e-01, 4.37440845e-04],\n",
              "       [1.34911895e-01, 4.32369381e-01, 4.32718724e-01],\n",
              "       [6.37677405e-03, 9.93230343e-01, 3.92851362e-04],\n",
              "       [1.06773987e-01, 8.80926430e-01, 1.22995032e-02],\n",
              "       [3.46817970e-02, 9.94366407e-02, 8.65881562e-01],\n",
              "       [4.33299541e-01, 3.17014486e-01, 2.49686033e-01],\n",
              "       [7.27065653e-02, 5.87333500e-01, 3.39959890e-01],\n",
              "       [1.98368449e-03, 9.97879803e-01, 1.36456423e-04],\n",
              "       [7.72393250e-04, 9.99202907e-01, 2.48340129e-05],\n",
              "       [2.24691653e-03, 9.97572124e-01, 1.80985269e-04],\n",
              "       [1.83351859e-01, 7.88443506e-01, 2.82046478e-02],\n",
              "       [1.51251089e-02, 9.81402993e-01, 3.47183645e-03],\n",
              "       [2.24530473e-02, 9.75647807e-01, 1.89906103e-03],\n",
              "       [4.91979020e-03, 9.94890392e-01, 1.89849437e-04],\n",
              "       [3.90064227e-03, 9.94165421e-01, 1.93380238e-03],\n",
              "       [2.99039837e-02, 3.48111749e-01, 6.21984243e-01],\n",
              "       [8.82626325e-03, 5.84632829e-02, 9.32710528e-01],\n",
              "       [1.61753525e-03, 9.98375773e-01, 6.73662316e-06],\n",
              "       [7.13555366e-02, 9.18974698e-01, 9.66980215e-03],\n",
              "       [1.82883162e-03, 9.97648239e-01, 5.22830931e-04],\n",
              "       [4.58906125e-03, 9.94867325e-01, 5.43610484e-04],\n",
              "       [1.45352585e-02, 9.77762699e-01, 7.70201301e-03],\n",
              "       [7.68878730e-03, 9.91634965e-01, 6.76250726e-04],\n",
              "       [2.94892164e-03, 9.96606112e-01, 4.44868754e-04],\n",
              "       [6.63723750e-03, 9.93329465e-01, 3.33229182e-05],\n",
              "       [3.93075170e-05, 9.99960601e-01, 4.66008778e-08],\n",
              "       [7.48661011e-02, 8.97980392e-01, 2.71534305e-02],\n",
              "       [3.90116475e-04, 9.99608219e-01, 1.71471925e-06],\n",
              "       [7.52386346e-04, 9.99200284e-01, 4.73289620e-05],\n",
              "       [1.44795014e-03, 9.98544633e-01, 7.38951803e-06],\n",
              "       [1.64096258e-04, 9.99835968e-01, 3.11575192e-08],\n",
              "       [1.34368092e-02, 9.85905647e-01, 6.57445577e-04],\n",
              "       [3.03041982e-03, 9.96942878e-01, 2.65722501e-05],\n",
              "       [2.66172513e-02, 4.57805358e-02, 9.27602232e-01],\n",
              "       [1.29454443e-03, 9.98529375e-01, 1.76079775e-04],\n",
              "       [1.42749650e-02, 9.77927029e-01, 7.79795507e-03],\n",
              "       [2.83624133e-04, 9.99716163e-01, 2.89359747e-07],\n",
              "       [7.11964618e-04, 9.99268770e-01, 1.91290837e-05],\n",
              "       [1.77283436e-02, 9.54592228e-01, 2.76794732e-02],\n",
              "       [9.70087107e-03, 9.88315165e-01, 1.98389916e-03],\n",
              "       [3.60531770e-02, 8.67938638e-01, 9.60082263e-02],\n",
              "       [6.28369451e-02, 8.05166304e-01, 1.31996796e-01],\n",
              "       [8.47339630e-03, 9.91362989e-01, 1.63648219e-04],\n",
              "       [2.74161566e-02, 9.64724362e-01, 7.85952900e-03],\n",
              "       [2.37705262e-05, 9.99976218e-01, 4.36853842e-09],\n",
              "       [1.63821094e-02, 9.82258976e-01, 1.35889219e-03],\n",
              "       [3.65791697e-04, 9.99631822e-01, 2.41370140e-06],\n",
              "       [5.93194854e-04, 9.99401450e-01, 5.26197437e-06],\n",
              "       [2.27532592e-02, 9.64486718e-01, 1.27599956e-02],\n",
              "       [1.34913865e-02, 9.86293554e-01, 2.15089633e-04],\n",
              "       [6.21659355e-03, 9.93652403e-01, 1.30835790e-04],\n",
              "       [1.01354111e-04, 9.99898612e-01, 3.55398591e-08],\n",
              "       [5.85741363e-04, 9.99410748e-01, 3.57322551e-06],\n",
              "       [8.65696406e-04, 9.99124289e-01, 1.00441821e-05],\n",
              "       [1.21072377e-03, 9.98720586e-01, 6.87449501e-05],\n",
              "       [2.45111063e-04, 9.99753714e-01, 1.18614469e-06],\n",
              "       [1.17316726e-04, 9.99881923e-01, 7.25409336e-07],\n",
              "       [9.30660972e-05, 9.99906719e-01, 1.73439005e-07],\n",
              "       [2.21290145e-04, 9.99775648e-01, 3.15312241e-06],\n",
              "       [3.77041666e-04, 9.99621928e-01, 1.07719268e-06],\n",
              "       [3.08162756e-02, 9.66858029e-01, 2.32558115e-03],\n",
              "       [1.19334403e-02, 9.86289799e-01, 1.77677977e-03],\n",
              "       [1.73803773e-02, 9.75253165e-01, 7.36638624e-03],\n",
              "       [7.57088928e-05, 9.99923766e-01, 4.39317120e-07],\n",
              "       [7.80867264e-02, 4.47112322e-01, 4.74800974e-01],\n",
              "       [2.11472914e-04, 9.99787092e-01, 1.47377682e-06],\n",
              "       [5.46864117e-04, 9.99371111e-01, 8.21076101e-05],\n",
              "       [9.60275009e-02, 7.85243213e-01, 1.18729286e-01],\n",
              "       [5.96959144e-02, 7.51033008e-01, 1.89271152e-01],\n",
              "       [1.76871195e-03, 9.98206973e-01, 2.42895767e-05],\n",
              "       [3.60024050e-02, 9.51653957e-01, 1.23434542e-02],\n",
              "       [6.78985799e-03, 9.91748333e-01, 1.46182964e-03],\n",
              "       [1.28102978e-03, 9.98647034e-01, 7.19478121e-05],\n",
              "       [7.19007105e-04, 9.99266028e-01, 1.50140459e-05],\n",
              "       [2.52657832e-04, 9.99745846e-01, 1.50747053e-06],\n",
              "       [1.28432352e-03, 9.98710573e-01, 4.94341202e-06],\n",
              "       [1.31525341e-02, 9.86445248e-01, 4.02167061e-04],\n",
              "       [2.44155359e-02, 9.60870087e-01, 1.47144049e-02],\n",
              "       [8.48071799e-02, 7.58303225e-01, 1.56889632e-01],\n",
              "       [1.11987434e-01, 5.48380196e-01, 3.39632362e-01],\n",
              "       [5.30076399e-03, 9.94468451e-01, 2.30808611e-04],\n",
              "       [9.19680763e-03, 9.89737749e-01, 1.06556609e-03],\n",
              "       [6.12266595e-04, 9.99380648e-01, 7.16600334e-06],\n",
              "       [2.95167469e-04, 9.99700785e-01, 4.04336652e-06],\n",
              "       [1.15686152e-02, 9.86009061e-01, 2.42216303e-03],\n",
              "       [1.50458782e-03, 9.98313248e-01, 1.82029369e-04],\n",
              "       [8.50157056e-04, 9.99130964e-01, 1.88774557e-05],\n",
              "       [6.71950809e-04, 9.99323189e-01, 4.76954574e-06],\n",
              "       [1.90130435e-03, 9.98092294e-01, 6.36497043e-06],\n",
              "       [3.06252688e-02, 9.64221716e-01, 5.15292771e-03],\n",
              "       [1.73437595e-03, 9.98213887e-01, 5.18005763e-05],\n",
              "       [2.62361905e-03, 9.97277617e-01, 9.86597515e-05],\n",
              "       [5.64695336e-04, 9.99434590e-01, 6.40164671e-07],\n",
              "       [1.84731267e-03, 9.98145103e-01, 7.63194657e-06],\n",
              "       [1.69106817e-03, 9.98283267e-01, 2.56717467e-05],\n",
              "       [4.06438746e-02, 9.57140148e-01, 2.21593492e-03],\n",
              "       [2.10575759e-03, 9.97828782e-01, 6.53987154e-05],\n",
              "       [9.49006237e-04, 9.98985052e-01, 6.58343924e-05],\n",
              "       [1.45788575e-02, 9.84687388e-01, 7.33723224e-04],\n",
              "       [4.84203811e-05, 9.99951422e-01, 6.12336422e-08],\n",
              "       [1.48412315e-02, 9.84915435e-01, 2.43328963e-04],\n",
              "       [1.08377702e-04, 9.99891579e-01, 5.25468771e-08],\n",
              "       [3.00867986e-02, 9.69584346e-01, 3.28889902e-04],\n",
              "       [8.67581144e-02, 9.12080169e-01, 1.16179965e-03],\n",
              "       [2.84870970e-03, 9.97150004e-01, 1.14185957e-06],\n",
              "       [8.90439551e-05, 9.99910653e-01, 2.09246892e-07],\n",
              "       [1.81987211e-02, 9.78163838e-01, 3.63737578e-03],\n",
              "       [6.85188696e-02, 9.24340367e-01, 7.14071887e-03],\n",
              "       [8.65624566e-03, 9.90936458e-01, 4.07334272e-04],\n",
              "       [1.03635131e-03, 9.98959303e-01, 4.29103829e-06],\n",
              "       [1.55558623e-02, 9.83647525e-01, 7.96575507e-04],\n",
              "       [2.29199984e-04, 9.99768257e-01, 2.51767960e-06],\n",
              "       [9.65005159e-03, 9.88890707e-01, 1.45913137e-03],\n",
              "       [2.59428262e-03, 9.97211635e-01, 1.94128865e-04],\n",
              "       [1.04952138e-02, 9.88686383e-01, 8.18453089e-04],\n",
              "       [1.22002582e-03, 9.98770475e-01, 9.51819402e-06],\n",
              "       [1.20657973e-03, 9.98758912e-01, 3.45547815e-05],\n",
              "       [3.86389717e-03, 9.95294154e-01, 8.41985922e-04],\n",
              "       [3.97314876e-03, 9.95634496e-01, 3.92368558e-04],\n",
              "       [7.76993838e-05, 9.99922216e-01, 2.94445517e-08],\n",
              "       [2.16438828e-04, 9.99779940e-01, 3.62343030e-06],\n",
              "       [1.51931960e-02, 9.82277215e-01, 2.52955756e-03],\n",
              "       [3.48887313e-03, 9.96478498e-01, 3.26452209e-05],\n",
              "       [1.64152756e-02, 9.82460678e-01, 1.12399773e-03],\n",
              "       [4.52344352e-03, 9.95203137e-01, 2.73435726e-04],\n",
              "       [3.72080714e-03, 9.96126711e-01, 1.52302091e-04],\n",
              "       [5.78541914e-03, 9.94176507e-01, 3.80516067e-05],\n",
              "       [5.46089490e-04, 9.99451756e-01, 2.22189760e-06],\n",
              "       [2.88457394e-01, 1.45000532e-01, 5.66542029e-01],\n",
              "       [9.19759180e-03, 2.60266028e-02, 9.64775801e-01],\n",
              "       [8.29529911e-02, 1.63505509e-01, 7.53541529e-01],\n",
              "       [7.74804205e-02, 2.02047795e-01, 7.20471680e-01],\n",
              "       [2.08218955e-02, 3.81275453e-02, 9.41050529e-01],\n",
              "       [1.87002774e-02, 4.79583554e-02, 9.33341324e-01],\n",
              "       [5.55570498e-02, 5.43009304e-02, 8.90142024e-01],\n",
              "       [3.85735892e-02, 6.40927106e-02, 8.97333801e-01],\n",
              "       [3.52055505e-02, 7.15620965e-02, 8.93232405e-01],\n",
              "       [3.13590653e-02, 5.17925322e-02, 9.16848302e-01],\n",
              "       [2.84696240e-02, 6.45848885e-02, 9.06945407e-01],\n",
              "       [2.13790592e-02, 3.81799378e-02, 9.40440953e-01],\n",
              "       [1.94706097e-02, 4.70383428e-02, 9.33490992e-01],\n",
              "       [2.40097046e-02, 3.41952629e-02, 9.41795051e-01],\n",
              "       [6.20002262e-02, 2.36146122e-01, 7.01853633e-01],\n",
              "       [1.26049027e-01, 8.71965364e-02, 7.86754429e-01],\n",
              "       [2.44481377e-02, 3.74968685e-02, 9.38054919e-01],\n",
              "       [2.56345104e-02, 7.74908811e-02, 8.96874547e-01],\n",
              "       [3.68210743e-03, 2.47265361e-02, 9.71591234e-01],\n",
              "       [1.50558399e-02, 3.63973752e-02, 9.48546708e-01],\n",
              "       [6.99945167e-02, 3.03531021e-01, 6.26474500e-01],\n",
              "       [1.39581542e-02, 2.79055927e-02, 9.58136261e-01],\n",
              "       [1.25537422e-02, 1.10143656e-02, 9.76431787e-01],\n",
              "       [2.67962161e-02, 2.02680808e-02, 9.52935636e-01],\n",
              "       [5.42098051e-03, 1.55054769e-02, 9.79073524e-01],\n",
              "       [5.66959800e-03, 1.25712799e-02, 9.81759071e-01],\n",
              "       [2.58578360e-02, 8.76648650e-02, 8.86477232e-01],\n",
              "       [3.70101742e-02, 1.01710603e-01, 8.61279190e-01],\n",
              "       [1.01537686e-02, 1.80096980e-02, 9.71836507e-01],\n",
              "       [1.48504376e-02, 6.19608872e-02, 9.23188567e-01],\n",
              "       [1.61814652e-02, 3.14437523e-02, 9.52374876e-01],\n",
              "       [9.48613510e-02, 2.67284840e-01, 6.37853801e-01],\n",
              "       [8.19300767e-03, 2.48861089e-02, 9.66920733e-01],\n",
              "       [1.90649349e-02, 4.12193760e-02, 9.39715624e-01],\n",
              "       [1.91945545e-02, 5.03977947e-02, 9.30407643e-01],\n",
              "       [3.97526892e-03, 2.15474516e-02, 9.74477172e-01],\n",
              "       [2.56987736e-02, 2.21658424e-02, 9.52135324e-01],\n",
              "       [1.72422659e-02, 3.62003446e-02, 9.46557343e-01],\n",
              "       [2.01175325e-02, 4.44724336e-02, 9.35409963e-01],\n",
              "       [9.22461599e-03, 1.55097200e-02, 9.75265622e-01],\n",
              "       [1.54324248e-02, 2.80215088e-02, 9.56546128e-01],\n",
              "       [2.97177304e-03, 2.83227973e-02, 9.68705416e-01],\n",
              "       [5.04480451e-02, 4.75891531e-02, 9.01962817e-01]], dtype=float32)"
            ]
          },
          "metadata": {},
          "execution_count": 36
        }
      ],
      "source": [
        "predictions = model.predict(test_generator)\n",
        "predictions"
      ]
    },
    {
      "cell_type": "code",
      "execution_count": 37,
      "id": "3ea9d5d5",
      "metadata": {
        "execution": {
          "iopub.execute_input": "2022-10-10T03:20:47.030534Z",
          "iopub.status.busy": "2022-10-10T03:20:47.030100Z",
          "iopub.status.idle": "2022-10-10T03:20:47.037281Z",
          "shell.execute_reply": "2022-10-10T03:20:47.036161Z"
        },
        "papermill": {
          "duration": 0.032334,
          "end_time": "2022-10-10T03:20:47.039427",
          "exception": false,
          "start_time": "2022-10-10T03:20:47.007093",
          "status": "completed"
        },
        "tags": [],
        "id": "3ea9d5d5"
      },
      "outputs": [],
      "source": [
        "def plot_loss_and_accuracy(history):\n",
        "    history_df = pd.DataFrame(history)\n",
        "    fig, ax = plt.subplots(1,2, figsize=(12, 6))\n",
        "    \n",
        "    history_df.loc[0:, ['loss', 'val_loss']].plot(ax=ax[0])\n",
        "    ax[0].set(xlabel = 'epoch number', ylabel = 'loss')\n",
        "\n",
        "    history_df.loc[0:, ['accuracy', 'val_accuracy']].plot(ax=ax[1])\n",
        "    ax[1].set(xlabel = 'epoch number', ylabel = 'accuracy')"
      ]
    },
    {
      "cell_type": "code",
      "execution_count": 38,
      "id": "84b7b6ba",
      "metadata": {
        "execution": {
          "iopub.execute_input": "2022-10-10T03:20:47.085054Z",
          "iopub.status.busy": "2022-10-10T03:20:47.084634Z",
          "iopub.status.idle": "2022-10-10T03:20:47.506716Z",
          "shell.execute_reply": "2022-10-10T03:20:47.505404Z"
        },
        "papermill": {
          "duration": 0.448521,
          "end_time": "2022-10-10T03:20:47.509654",
          "exception": false,
          "start_time": "2022-10-10T03:20:47.061133",
          "status": "completed"
        },
        "tags": [],
        "colab": {
          "base_uri": "https://localhost:8080/",
          "height": 388
        },
        "id": "84b7b6ba",
        "outputId": "d9b52049-24d6-442c-dc9a-a6f7042161d0"
      },
      "outputs": [
        {
          "output_type": "display_data",
          "data": {
            "text/plain": [
              "<Figure size 864x432 with 2 Axes>"
            ],
            "image/png": "[encoded data removed]"
          },
          "metadata": {
            "needs_background": "light"
          }
        }
      ],
      "source": [
        "plot_loss_and_accuracy(model_history.history)"
      ]
    },
    {
      "cell_type": "code",
      "execution_count": 39,
      "id": "616cb624",
      "metadata": {
        "execution": {
          "iopub.execute_input": "2022-10-10T03:20:47.559944Z",
          "iopub.status.busy": "2022-10-10T03:20:47.559038Z",
          "iopub.status.idle": "2022-10-10T03:20:48.274672Z",
          "shell.execute_reply": "2022-10-10T03:20:48.273507Z"
        },
        "papermill": {
          "duration": 0.742043,
          "end_time": "2022-10-10T03:20:48.276779",
          "exception": false,
          "start_time": "2022-10-10T03:20:47.534736",
          "status": "completed"
        },
        "tags": [],
        "colab": {
          "base_uri": "https://localhost:8080/",
          "height": 305
        },
        "id": "616cb624",
        "outputId": "241c8b95-b301-4a73-aeaf-0677c349422e"
      },
      "outputs": [
        {
          "output_type": "stream",
          "name": "stdout",
          "text": [
            "31/31 [==============================] - 0s 12ms/step\n",
            "with_mask || with_mask\n"
          ]
        },
        {
          "output_type": "display_data",
          "data": {
            "text/plain": [
              "<Figure size 432x288 with 1 Axes>"
            ],
            "image/png": "[encoded data removed]"
          },
          "metadata": {
            "needs_background": "light"
          }
        }
      ],
      "source": [
        "paths = test_generator.filenames\n",
        "y_pred = model.predict(test_generator).argmax(axis=1)\n",
        "classes = test_generator.class_indices\n",
        "\n",
        "a_img_rand = np.random.randint(0,len(paths))\n",
        "img = cv2.imread(os.path.join(output_data_path,'test', paths[a_img_rand]))      \n",
        "colored_img = cv2.cvtColor(img, cv2.COLOR_RGB2BGR)\n",
        "\n",
        "plt.imshow(colored_img)\n",
        "true_label = paths[a_img_rand].split('/')[0]\n",
        "predicted_label = list(classes)[y_pred[a_img_rand]]\n",
        "print(f'{predicted_label} || {true_label}')"
      ]
    },
    {
      "cell_type": "code",
      "execution_count": 40,
      "id": "ab11078c",
      "metadata": {
        "execution": {
          "iopub.execute_input": "2022-10-10T03:20:48.324600Z",
          "iopub.status.busy": "2022-10-10T03:20:48.323791Z",
          "iopub.status.idle": "2022-10-10T03:20:48.330897Z",
          "shell.execute_reply": "2022-10-10T03:20:48.330117Z"
        },
        "papermill": {
          "duration": 0.033413,
          "end_time": "2022-10-10T03:20:48.333119",
          "exception": false,
          "start_time": "2022-10-10T03:20:48.299706",
          "status": "completed"
        },
        "tags": [],
        "id": "ab11078c"
      },
      "outputs": [],
      "source": [
        "def evaluation(y, y_hat, title = 'Confusion Matrix'):\n",
        "    cm = confusion_matrix(y, y_hat)\n",
        "    sns.heatmap(cm,  cmap= 'PuBu', annot=True, fmt='g', annot_kws={'size':20})\n",
        "    plt.xlabel('predicted', fontsize=18)\n",
        "    plt.ylabel('actual', fontsize=18)\n",
        "    plt.title(title, fontsize=18)\n",
        "    \n",
        "    plt.show()"
      ]
    },
    {
      "cell_type": "code",
      "execution_count": 41,
      "id": "9f728bd7",
      "metadata": {
        "execution": {
          "iopub.execute_input": "2022-10-10T03:20:48.380438Z",
          "iopub.status.busy": "2022-10-10T03:20:48.379998Z",
          "iopub.status.idle": "2022-10-10T03:20:48.920897Z",
          "shell.execute_reply": "2022-10-10T03:20:48.919765Z"
        },
        "papermill": {
          "duration": 0.567354,
          "end_time": "2022-10-10T03:20:48.923224",
          "exception": false,
          "start_time": "2022-10-10T03:20:48.355870",
          "status": "completed"
        },
        "tags": [],
        "colab": {
          "base_uri": "https://localhost:8080/",
          "height": 325
        },
        "id": "9f728bd7",
        "outputId": "c1108c61-9270-436a-b6f5-3c303b04d429"
      },
      "outputs": [
        {
          "output_type": "stream",
          "name": "stdout",
          "text": [
            "31/31 [==============================] - 0s 11ms/step\n"
          ]
        },
        {
          "output_type": "display_data",
          "data": {
            "text/plain": [
              "<Figure size 432x288 with 2 Axes>"
            ],
            "image/png": "[encoded data removed]"
          },
          "metadata": {
            "needs_background": "light"
          }
        }
      ],
      "source": [
        "y_true = test_generator.labels\n",
        "y_pred = model.predict(test_generator).argmax(axis=1) # Predict prob and get Class Indices\n",
        "\n",
        "evaluation(y_true, y_pred)"
      ]
    },
    {
      "cell_type": "code",
      "execution_count": 42,
      "id": "7d6a0238",
      "metadata": {
        "execution": {
          "iopub.execute_input": "2022-10-10T03:20:48.971524Z",
          "iopub.status.busy": "2022-10-10T03:20:48.971092Z",
          "iopub.status.idle": "2022-10-10T03:20:48.979754Z",
          "shell.execute_reply": "2022-10-10T03:20:48.978663Z"
        },
        "papermill": {
          "duration": 0.0356,
          "end_time": "2022-10-10T03:20:48.981958",
          "exception": false,
          "start_time": "2022-10-10T03:20:48.946358",
          "status": "completed"
        },
        "tags": [],
        "colab": {
          "base_uri": "https://localhost:8080/",
          "height": 53
        },
        "id": "7d6a0238",
        "outputId": "a376249f-9e52-4fcc-e6f5-53e9d0074a97"
      },
      "outputs": [
        {
          "output_type": "display_data",
          "data": {
            "text/plain": [
              "{'mask_weared_incorrect': 0, 'with_mask': 1, 'without_mask': 2}"
            ]
          },
          "metadata": {}
        },
        {
          "output_type": "execute_result",
          "data": {
            "text/plain": [
              "array([  2, 189,  52])"
            ]
          },
          "metadata": {},
          "execution_count": 42
        }
      ],
      "source": [
        "display(classes)\n",
        "np.bincount(y_pred)"
      ]
    }
  ],
  "metadata": {
    "kernelspec": {
      "display_name": "Python 3",
      "language": "python",
      "name": "python3"
    },
    "language_info": {
      "codemirror_mode": {
        "name": "ipython",
        "version": 3
      },
      "file_extension": ".py",
      "mimetype": "text/x-python",
      "name": "python",
      "nbconvert_exporter": "python",
      "pygments_lexer": "ipython3",
      "version": "3.7.12"
    },
    "papermill": {
      "default_parameters": {},
      "duration": 130.201609,
      "end_time": "2022-10-10T03:20:51.843522",
      "environment_variables": {},
      "exception": null,
      "input_path": "__notebook__.ipynb",
      "output_path": "__notebook__.ipynb",
      "parameters": {},
      "start_time": "2022-10-10T03:18:41.641913",
      "version": "2.3.4"
    },
    "colab": {
      "provenance": []
    }
  },
  "nbformat": 4,
  "nbformat_minor": 5
}